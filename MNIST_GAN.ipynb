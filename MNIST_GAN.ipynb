{
 "cells": [
  {
   "cell_type": "markdown",
   "metadata": {},
   "source": [
    "# Try an InfoGAN on MNIST"
   ]
  },
  {
   "cell_type": "code",
   "execution_count": 1,
   "metadata": {
    "collapsed": true
   },
   "outputs": [],
   "source": [
    "%matplotlib inline\n",
    "#Import a ton of stuff\n",
    "import os\n",
    "import struct\n",
    "import numpy as np\n",
    "\n",
    "import torch\n",
    "from torch.autograd import Variable\n",
    "from torch import nn\n",
    "import torch.nn.functional as F\n",
    "import torch.optim as optim\n",
    "from torch.utils.data import TensorDataset, DataLoader\n",
    "\n",
    "import matplotlib.pyplot as plt\n",
    "import matplotlib.gridspec as gridspec\n",
    "\n",
    "from layers import Conv2d, ConvTranspose2d, Linear\n",
    "from InfoGAN import InfoGAN"
   ]
  },
  {
   "cell_type": "markdown",
   "metadata": {},
   "source": [
    "## Load the MNIST Data"
   ]
  },
  {
   "cell_type": "code",
   "execution_count": 2,
   "metadata": {},
   "outputs": [
    {
     "name": "stdout",
     "output_type": "stream",
     "text": [
      "(60000, 28, 28) (10000, 28, 28) (60000,) (10000,)\n"
     ]
    }
   ],
   "source": [
    "# Load the MNIST CSV data from https://pjreddie.com/projects/mnist-in-csv/\n",
    "# data_train = np.genfromtxt('./MNIST_Data/mnist_train.csv', delimiter = ',').astype(np.uint8)\n",
    "# data_test = np.genfromtxt('./MNIST_Data/mnist_test.csv', delimiter = ',').astype(np.uint8)\n",
    "\n",
    "def read_idx(filename):\n",
    "    with open(filename, 'rb') as f:\n",
    "        zero, data_type, dims = struct.unpack('>HBB', f.read(4))\n",
    "        shape = tuple(struct.unpack('>I', f.read(4))[0] for d in range(dims))\n",
    "        return np.fromstring(f.read(), dtype=np.uint8).reshape(shape)\n",
    "\n",
    "data_train = read_idx('./MNIST_Data/train-images-idx3-ubyte')\n",
    "data_test = read_idx('./MNIST_Data/t10k-images-idx3-ubyte')\n",
    "\n",
    "targets_train = read_idx('./MNIST_Data/train-labels-idx1-ubyte')\n",
    "targets_test = read_idx('./MNIST_Data/t10k-labels-idx1-ubyte')\n",
    "print(data_train.shape, data_test.shape, targets_train.shape, targets_test.shape)"
   ]
  },
  {
   "cell_type": "code",
   "execution_count": 3,
   "metadata": {},
   "outputs": [
    {
     "name": "stdout",
     "output_type": "stream",
     "text": [
      "(60000, 1, 28, 28) (60000, 10)\n",
      "(10000, 1, 28, 28) (10000, 10)\n",
      "[  0   1   2   3   4   5   6   7   8   9  10  11  12  13  14  15  16  17\n",
      "  18  19  20  21  22  23  24  25  26  27  28  29  30  31  32  33  34  35\n",
      "  36  37  38  39  40  41  42  43  44  45  46  47  48  49  50  51  52  53\n",
      "  54  55  56  57  58  59  60  61  62  63  64  65  66  67  68  69  70  71\n",
      "  72  73  74  75  76  77  78  79  80  81  82  83  84  85  86  87  88  89\n",
      "  90  91  92  93  94  95  96  97  98  99 100 101 102 103 104 105 106 107\n",
      " 108 109 110 111 112 113 114 115 116 117 118 119 120 121 122 123 124 125\n",
      " 126 127 128 129 130 131 132 133 134 135 136 137 138 139 140 141 142 143\n",
      " 144 145 146 147 148 149 150 151 152 153 154 155 156 157 158 159 160 161\n",
      " 162 163 164 165 166 167 168 169 170 171 172 173 174 175 176 177 178 179\n",
      " 180 181 182 183 184 185 186 187 188 189 190 191 192 193 194 195 196 197\n",
      " 198 199 200 201 202 203 204 205 206 207 208 209 210 211 212 213 214 215\n",
      " 216 217 218 219 220 221 222 223 224 225 226 227 228 229 230 231 232 233\n",
      " 234 235 236 237 238 239 240 241 242 243 244 245 246 247 248 249 250 251\n",
      " 252 253 254 255]\n"
     ]
    }
   ],
   "source": [
    "# Now reformat it into the format we want\n",
    "# NOTE: PyTorch is weird so if we wanted to use cross entropy we need to keep them as logits, but we won't so...\n",
    "x_train = np.expand_dims(data_train, 1)\n",
    "y_train = np.zeros((targets_train.shape[0], 10), dtype = np.uint8)\n",
    "y_train[np.arange(targets_train.shape[0]), targets_train] = 1\n",
    "\n",
    "x_test = np.expand_dims(data_test, 1)\n",
    "y_test = np.zeros((data_test.shape[0], 10), dtype = np.uint8)\n",
    "y_test[np.arange(targets_test.shape[0]), targets_test] = 1\n",
    "\n",
    "print(x_train.shape, y_train.shape)\n",
    "print(x_test.shape, y_test.shape)\n",
    "\n",
    "# Looks like we can convert our x to unint8\n",
    "# We'll convert back to float and rescale to between 0 and 1 on the GPU batchwise to save CPU RAM\n",
    "print(np.unique(x_train))\n",
    "x_train = x_train.astype(np.uint8)\n",
    "x_test = x_test.astype(np.uint8)\n",
    "y_train = y_train.astype(np.uint8)\n",
    "y_test = y_test.astype(np.uint8)"
   ]
  },
  {
   "cell_type": "code",
   "execution_count": 4,
   "metadata": {},
   "outputs": [
    {
     "name": "stdout",
     "output_type": "stream",
     "text": [
      "[0 0 0 0 0 0 0 1 0 0]\n"
     ]
    },
    {
     "data": {
      "text/plain": [
       "<matplotlib.image.AxesImage at 0x7efc1766e668>"
      ]
     },
     "execution_count": 4,
     "metadata": {},
     "output_type": "execute_result"
    },
    {
     "data": {
      "image/png": "[encoded data removed]",
      "text/plain": [
       "<matplotlib.figure.Figure at 0x7efc4cfc49e8>"
      ]
     },
     "metadata": {},
     "output_type": "display_data"
    }
   ],
   "source": [
    "# Show an example from the test set\n",
    "print(y_test[0])\n",
    "plt.figure(0)\n",
    "plt.imshow(x_test[0, 0], cmap = 'gray')"
   ]
  },
  {
   "cell_type": "markdown",
   "metadata": {},
   "source": [
    "## PyTorch-ify our data and set the number of random samples we want to supervise with"
   ]
  },
  {
   "cell_type": "code",
   "execution_count": 5,
   "metadata": {
    "collapsed": true
   },
   "outputs": [],
   "source": [
    "supervision = 100 # Number of samples to supervise with\n",
    "\n",
    "# Prep the data by turning them into tensors and putting them into a PyTorch dataloader\n",
    "shuffle_train = np.random.permutation(y_train.shape[0])\n",
    "x_train_th = torch.from_numpy(x_train[shuffle_train])\n",
    "y_train_th = torch.from_numpy(y_train[shuffle_train]).float()\n",
    "\n",
    "x_test_th = torch.from_numpy(x_test)\n",
    "y_test_th = torch.from_numpy(y_test)\n",
    "\n",
    "# OK, we're going to be hacking this out. We'll multiply by the sum of the labels\n",
    "# So to make this semisupervised, we set the labels we don't want to 0\n",
    "y_train_th[int(supervision):] = 0\n",
    "\n",
    "train_tensors = TensorDataset(x_train_th, y_train_th)\n",
    "test_tensors = TensorDataset(x_test_th, y_test_th)\n",
    "train_loader = DataLoader(train_tensors, batch_size = 128, shuffle = True, num_workers = 6, pin_memory = True)\n",
    "test_loader = DataLoader(test_tensors, batch_size = 128, shuffle = True, num_workers = 6, pin_memory = True)"
   ]
  },
  {
   "cell_type": "markdown",
   "metadata": {},
   "source": [
    "## Create our network\n",
    "* c1_len is the length of the multinomial coding vector\n",
    "* c2_len is the length of the Gaussian coding vector\n",
    "* c3_len is the length of the Bernoulli coding vector. Note the original paper doesn't using any bernoulli codes\n",
    "* z_len is the length of the noise vector\n",
    "* embedding_len is  the length of the embedding output from the discriminator to compute the latent codes"
   ]
  },
  {
   "cell_type": "code",
   "execution_count": 6,
   "metadata": {
    "collapsed": true
   },
   "outputs": [],
   "source": [
    "# Now let's start building the GAN\n",
    "# But first, we're going to redefine Conv2D and Linear with our own initialisations\n",
    "# We're going to use Glorot (aka Xavier) uniform init for all weights\n",
    "# And we will use zero init for all biases\n",
    "\n",
    "c1_len = 10 # Multinomial\n",
    "c2_len = 2 # Gaussian\n",
    "c3_len = 0 # Bernoulli\n",
    "z_len = 64 # Noise vector length\n",
    "embedding_len = 128\n",
    "\n",
    "class Conv2d(nn.Conv2d):\n",
    "    def reset_parameters(self):\n",
    "        stdv = np.sqrt(6 / ((self.in_channels  + self.out_channels) * np.prod(self.kernel_size)))\n",
    "        self.weight.data.uniform_(-stdv, stdv)\n",
    "        if self.bias is not None:\n",
    "            self.bias.data.zero_()\n",
    "\n",
    "class ConvTranspose2d(nn.ConvTranspose2d):\n",
    "    def reset_parameters(self):\n",
    "        stdv = np.sqrt(6 / ((self.in_channels  + self.out_channels) * np.prod(self.kernel_size)))\n",
    "        self.weight.data.uniform_(-stdv, stdv)\n",
    "        if self.bias is not None:\n",
    "            self.bias.data.zero_()\n",
    "\n",
    "class Linear(nn.Linear):\n",
    "    def reset_parameters(self):\n",
    "        stdv = np.sqrt(6 / (self.in_features + self.out_features))\n",
    "        self.weight.data.uniform_(-stdv, stdv)\n",
    "        if self.bias is not None:\n",
    "            self.bias.data.zero_()\n",
    "\n",
    "class Generator(nn.Module):\n",
    "    def __init__(self):\n",
    "        super(Generator, self).__init__()\n",
    "        self.fc1 = Linear(z_len + c1_len + c2_len + c3_len, 1024)\n",
    "        self.fc2 = Linear(1024, 7 * 7 * 128)\n",
    "\n",
    "        self.convt1 = ConvTranspose2d(128, 64, kernel_size = 4, stride = 2, padding = 1)\n",
    "        self.convt2 = ConvTranspose2d(64, 1, kernel_size = 4, stride = 2, padding = 1)\n",
    "\n",
    "        self.bn1 = nn.BatchNorm1d(1024)\n",
    "        self.bn2 = nn.BatchNorm1d(7 * 7 * 128)\n",
    "        self.bn3 = nn.BatchNorm2d(64)\n",
    "\n",
    "    def forward(self, x):\n",
    "        x = F.relu(self.bn1(self.fc1(x)))\n",
    "        x = F.relu(self.bn2(self.fc2(x))).view(-1, 128, 7, 7)\n",
    "\n",
    "        x = F.relu(self.bn3(self.convt1(x)))\n",
    "        x = self.convt2(x)\n",
    "\n",
    "        return F.sigmoid(x)\n",
    "\n",
    "class Discriminator(nn.Module):\n",
    "    def __init__(self):\n",
    "        super(Discriminator, self).__init__()\n",
    "\n",
    "        self.conv1 = Conv2d(1, 64, kernel_size = 4, stride = 2, padding = 1) # 28 x 28 -> 14 x 14\n",
    "        self.conv2 = Conv2d(64, 128, kernel_size = 4, stride = 2, padding = 1) # 14 x 14 -> 7 x 7\n",
    "\n",
    "        self.fc1 = Linear(128 * 7 ** 2, 1024)\n",
    "        self.fc2 = Linear(1024, 1)\n",
    "        self.fc1_q = Linear(1024, embedding_len)\n",
    "\n",
    "        self.bn1 = nn.BatchNorm2d(128)\n",
    "        self.bn2 = nn.BatchNorm1d(1024)\n",
    "        self.bn_q1 = nn.BatchNorm1d(embedding_len)\n",
    "\n",
    "    def forward(self, x):\n",
    "        x = F.leaky_relu(self.conv1(x))\n",
    "        x = F.leaky_relu(self.bn1(self.conv2(x))).view(-1, 7 ** 2 * 128)\n",
    "\n",
    "        x = F.leaky_relu(self.bn2(self.fc1(x)))\n",
    "        return self.fc2(x), F.leaky_relu(self.bn_q1(self.fc1_q(x)))"
   ]
  },
  {
   "cell_type": "code",
   "execution_count": 7,
   "metadata": {
    "collapsed": true
   },
   "outputs": [],
   "source": [
    "# OK, now we create the actual models\n",
    "gen = Generator().cuda()\n",
    "dis = Discriminator().cuda()"
   ]
  },
  {
   "cell_type": "code",
   "execution_count": 8,
   "metadata": {
    "collapsed": true
   },
   "outputs": [],
   "source": [
    "# Link it all together into the InfoGAN. Also add the output layers for the latent codes\n",
    "gan = InfoGAN(gen, dis, embedding_len, z_len, c1_len, c2_len, c3_len)"
   ]
  },
  {
   "cell_type": "code",
   "execution_count": 9,
   "metadata": {
    "scrolled": false
   },
   "outputs": [
    {
     "name": "stderr",
     "output_type": "stream",
     "text": [
      "Widget Javascript not detected.  It may not be installed or enabled properly.\n"
     ]
    },
    {
     "data": {
      "application/vnd.jupyter.widget-view+json": {
       "model_id": "81c223bb903f499196640441b519084b"
      }
     },
     "metadata": {},
     "output_type": "display_data"
    },
    {
     "name": "stdout",
     "output_type": "stream",
     "text": [
      "60000/|/Epoch 1: 100%|| 60000/60000 [00:19<00:00, 3590.99it/s, loss_dis=0.181, loss_gen=0.608, loss_q=0.186]\n"
     ]
    },
    {
     "name": "stderr",
     "output_type": "stream",
     "text": [
      "Widget Javascript not detected.  It may not be installed or enabled properly.\n"
     ]
    },
    {
     "data": {
      "application/vnd.jupyter.widget-view+json": {
       "model_id": "fe23358ad3dd4fd8941927e50d8cd2dc"
      }
     },
     "metadata": {},
     "output_type": "display_data"
    },
    {
     "name": "stdout",
     "output_type": "stream",
     "text": [
      "60000/|/Epoch 2: 100%|| 60000/60000 [00:18<00:00, 3757.59it/s, loss_dis=0.245, loss_gen=0.489, loss_q=0.112]]\n"
     ]
    },
    {
     "name": "stderr",
     "output_type": "stream",
     "text": [
      "Widget Javascript not detected.  It may not be installed or enabled properly.\n"
     ]
    },
    {
     "data": {
      "application/vnd.jupyter.widget-view+json": {
       "model_id": "b72cc853b26f48789118fe34a8c53d59"
      }
     },
     "metadata": {},
     "output_type": "display_data"
    },
    {
     "name": "stdout",
     "output_type": "stream",
     "text": [
      "60000/|/Epoch 3: 100%|| 60000/60000 [00:16<00:00, 3750.92it/s, loss_dis=0.305, loss_gen=0.463, loss_q=0.0734]\n"
     ]
    },
    {
     "name": "stderr",
     "output_type": "stream",
     "text": [
      "Widget Javascript not detected.  It may not be installed or enabled properly.\n"
     ]
    },
    {
     "data": {
      "application/vnd.jupyter.widget-view+json": {
       "model_id": "f32f6b80e90d4cdf96d6c7c649bdb2d3"
      }
     },
     "metadata": {},
     "output_type": "display_data"
    },
    {
     "name": "stdout",
     "output_type": "stream",
     "text": [
      "60000/|/Epoch 4: 100%|| 60000/60000 [00:16<00:00, 3703.55it/s, loss_dis=0.369, loss_gen=0.426, loss_q=0.0677]\n"
     ]
    },
    {
     "name": "stderr",
     "output_type": "stream",
     "text": [
      "Widget Javascript not detected.  It may not be installed or enabled properly.\n"
     ]
    },
    {
     "data": {
      "application/vnd.jupyter.widget-view+json": {
       "model_id": "5e5c0e549b494c35bc868620de0ce0c4"
      }
     },
     "metadata": {},
     "output_type": "display_data"
    },
    {
     "name": "stdout",
     "output_type": "stream",
     "text": [
      "60000/|/Epoch 5: 100%|| 60000/60000 [00:19<00:00, 3239.17it/s, loss_dis=0.306, loss_gen=0.442, loss_q=0.0413]\n"
     ]
    },
    {
     "name": "stderr",
     "output_type": "stream",
     "text": [
      "Widget Javascript not detected.  It may not be installed or enabled properly.\n"
     ]
    },
    {
     "data": {
      "application/vnd.jupyter.widget-view+json": {
       "model_id": "aec86ffe50ce41ef99c2a4c01665b47e"
      }
     },
     "metadata": {},
     "output_type": "display_data"
    },
    {
     "name": "stdout",
     "output_type": "stream",
     "text": [
      "60000/|/Epoch 6: 100%|| 60000/60000 [00:19<00:00, 3723.45it/s, loss_dis=0.355, loss_gen=0.464, loss_q=0.0617]\n"
     ]
    },
    {
     "name": "stderr",
     "output_type": "stream",
     "text": [
      "Widget Javascript not detected.  It may not be installed or enabled properly.\n"
     ]
    },
    {
     "data": {
      "application/vnd.jupyter.widget-view+json": {
       "model_id": "fe72121b12874ce6a926fb7dec4f00fc"
      }
     },
     "metadata": {},
     "output_type": "display_data"
    },
    {
     "name": "stdout",
     "output_type": "stream",
     "text": [
      "60000/|/Epoch 7: 100%|| 60000/60000 [00:18<00:00, 2999.25it/s, loss_dis=0.275, loss_gen=0.512, loss_q=0.0281]\n"
     ]
    },
    {
     "name": "stderr",
     "output_type": "stream",
     "text": [
      "Widget Javascript not detected.  It may not be installed or enabled properly.\n"
     ]
    },
    {
     "data": {
      "application/vnd.jupyter.widget-view+json": {
       "model_id": "f878fc2edd1647bc82f06b5f5c5390eb"
      }
     },
     "metadata": {},
     "output_type": "display_data"
    },
    {
     "name": "stdout",
     "output_type": "stream",
     "text": [
      "60000/|/Epoch 8: 100%|| 60000/60000 [00:18<00:00, 3211.01it/s, loss_dis=0.344, loss_gen=0.469, loss_q=0.0337]\n"
     ]
    },
    {
     "name": "stderr",
     "output_type": "stream",
     "text": [
      "Widget Javascript not detected.  It may not be installed or enabled properly.\n"
     ]
    },
    {
     "data": {
      "application/vnd.jupyter.widget-view+json": {
       "model_id": "f6e78b01227c4b109f23b856ef99ffc2"
      }
     },
     "metadata": {},
     "output_type": "display_data"
    },
    {
     "name": "stdout",
     "output_type": "stream",
     "text": [
      "60000/|/Epoch 9: 100%|| 60000/60000 [00:18<00:00, 3690.64it/s, loss_dis=0.267, loss_gen=0.558, loss_q=0.0529]\n"
     ]
    },
    {
     "name": "stderr",
     "output_type": "stream",
     "text": [
      "Widget Javascript not detected.  It may not be installed or enabled properly.\n"
     ]
    },
    {
     "data": {
      "application/vnd.jupyter.widget-view+json": {
       "model_id": "4b476bfd780a4cd5b0661be7664bff1d"
      }
     },
     "metadata": {},
     "output_type": "display_data"
    },
    {
     "name": "stdout",
     "output_type": "stream",
     "text": [
      "60000/|/Epoch 10: 100%|| 60000/60000 [00:17<00:00, 3657.39it/s, loss_dis=0.388, loss_gen=0.477, loss_q=0.0242]\n"
     ]
    },
    {
     "name": "stderr",
     "output_type": "stream",
     "text": [
      "Widget Javascript not detected.  It may not be installed or enabled properly.\n"
     ]
    },
    {
     "data": {
      "application/vnd.jupyter.widget-view+json": {
       "model_id": "6b26fd095807429b8549e526a95a2701"
      }
     },
     "metadata": {},
     "output_type": "display_data"
    },
    {
     "name": "stdout",
     "output_type": "stream",
     "text": [
      "60000/|/Epoch 11: 100%|| 60000/60000 [00:17<00:00, 3700.43it/s, loss_dis=0.37, loss_gen=0.418, loss_q=0.0384]]\n"
     ]
    },
    {
     "name": "stderr",
     "output_type": "stream",
     "text": [
      "Widget Javascript not detected.  It may not be installed or enabled properly.\n"
     ]
    },
    {
     "data": {
      "application/vnd.jupyter.widget-view+json": {
       "model_id": "9ab6360e486740969cf00a420f4c3c95"
      }
     },
     "metadata": {},
     "output_type": "display_data"
    },
    {
     "name": "stdout",
     "output_type": "stream",
     "text": [
      "60000/|/Epoch 12: 100%|| 60000/60000 [00:18<00:00, 3653.06it/s, loss_dis=0.277, loss_gen=0.591, loss_q=0.0532]\n"
     ]
    },
    {
     "name": "stderr",
     "output_type": "stream",
     "text": [
      "Widget Javascript not detected.  It may not be installed or enabled properly.\n"
     ]
    },
    {
     "data": {
      "application/vnd.jupyter.widget-view+json": {
       "model_id": "26e0c2f0f739493181a118330e16a3e6"
      }
     },
     "metadata": {},
     "output_type": "display_data"
    },
    {
     "name": "stdout",
     "output_type": "stream",
     "text": [
      "60000/|/Epoch 13: 100%|| 60000/60000 [00:18<00:00, 3520.54it/s, loss_dis=0.19, loss_gen=0.827, loss_q=0.0274]]\n"
     ]
    },
    {
     "name": "stderr",
     "output_type": "stream",
     "text": [
      "Widget Javascript not detected.  It may not be installed or enabled properly.\n"
     ]
    },
    {
     "data": {
      "application/vnd.jupyter.widget-view+json": {
       "model_id": "af5f1ae206f644539277cf3e86c5f5be"
      }
     },
     "metadata": {},
     "output_type": "display_data"
    },
    {
     "name": "stdout",
     "output_type": "stream",
     "text": [
      "60000/|/Epoch 14: 100%|| 60000/60000 [00:18<00:00, 3711.69it/s, loss_dis=0.169, loss_gen=0.78, loss_q=0.0616]]\n"
     ]
    },
    {
     "name": "stderr",
     "output_type": "stream",
     "text": [
      "Widget Javascript not detected.  It may not be installed or enabled properly.\n"
     ]
    },
    {
     "data": {
      "application/vnd.jupyter.widget-view+json": {
       "model_id": "0a88c1ef5fbb4e2784235c8b48181288"
      }
     },
     "metadata": {},
     "output_type": "display_data"
    },
    {
     "name": "stdout",
     "output_type": "stream",
     "text": [
      "60000/|/Epoch 15: 100%|| 60000/60000 [00:17<00:00, 3558.12it/s, loss_dis=0.184, loss_gen=0.751, loss_q=0.0377]\n"
     ]
    },
    {
     "name": "stderr",
     "output_type": "stream",
     "text": [
      "Widget Javascript not detected.  It may not be installed or enabled properly.\n"
     ]
    },
    {
     "data": {
      "application/vnd.jupyter.widget-view+json": {
       "model_id": "dda21bea3cf1419e8c5825ab65a518f8"
      }
     },
     "metadata": {},
     "output_type": "display_data"
    },
    {
     "name": "stdout",
     "output_type": "stream",
     "text": [
      "60000/|/Epoch 16: 100%|| 60000/60000 [00:17<00:00, 3704.84it/s, loss_dis=0.203, loss_gen=0.658, loss_q=0.0265]\n"
     ]
    },
    {
     "name": "stderr",
     "output_type": "stream",
     "text": [
      "Widget Javascript not detected.  It may not be installed or enabled properly.\n"
     ]
    },
    {
     "data": {
      "application/vnd.jupyter.widget-view+json": {
       "model_id": "1b7b921348a34f11bfd99e32dac686ca"
      }
     },
     "metadata": {},
     "output_type": "display_data"
    },
    {
     "name": "stdout",
     "output_type": "stream",
     "text": [
      "60000/|/Epoch 17: 100%|| 60000/60000 [00:17<00:00, 3707.59it/s, loss_dis=0.156, loss_gen=0.619, loss_q=0.0779]]\n"
     ]
    },
    {
     "name": "stderr",
     "output_type": "stream",
     "text": [
      "Widget Javascript not detected.  It may not be installed or enabled properly.\n"
     ]
    },
    {
     "data": {
      "application/vnd.jupyter.widget-view+json": {
       "model_id": "4861cd9fa3bb438ca7cee25c307bab74"
      }
     },
     "metadata": {},
     "output_type": "display_data"
    },
    {
     "name": "stdout",
     "output_type": "stream",
     "text": [
      "60000/|/Epoch 18: 100%|| 60000/60000 [00:16<00:00, 3716.40it/s, loss_dis=0.143, loss_gen=0.644, loss_q=0.0588]]\n"
     ]
    },
    {
     "name": "stderr",
     "output_type": "stream",
     "text": [
      "Widget Javascript not detected.  It may not be installed or enabled properly.\n"
     ]
    },
    {
     "data": {
      "application/vnd.jupyter.widget-view+json": {
       "model_id": "2ec4669239484d8199e46fbbe69bb1bd"
      }
     },
     "metadata": {},
     "output_type": "display_data"
    },
    {
     "name": "stdout",
     "output_type": "stream",
     "text": [
      "60000/|/Epoch 19: 100%|| 60000/60000 [00:19<00:00, 3403.47it/s, loss_dis=0.122, loss_gen=0.748, loss_q=0.0281]]\n"
     ]
    },
    {
     "name": "stderr",
     "output_type": "stream",
     "text": [
      "Widget Javascript not detected.  It may not be installed or enabled properly.\n"
     ]
    },
    {
     "data": {
      "application/vnd.jupyter.widget-view+json": {
       "model_id": "4b921bf7e30342d5ae3451086f63674f"
      }
     },
     "metadata": {},
     "output_type": "display_data"
    },
    {
     "name": "stdout",
     "output_type": "stream",
     "text": [
      "60000/|/Epoch 20: 100%|| 60000/60000 [00:18<00:00, 3531.68it/s, loss_dis=0.155, loss_gen=0.869, loss_q=0.0187]]\n"
     ]
    },
    {
     "name": "stderr",
     "output_type": "stream",
     "text": [
      "Widget Javascript not detected.  It may not be installed or enabled properly.\n"
     ]
    },
    {
     "data": {
      "application/vnd.jupyter.widget-view+json": {
       "model_id": "67bcf56676204f1ab0946d59cb18768f"
      }
     },
     "metadata": {},
     "output_type": "display_data"
    },
    {
     "name": "stdout",
     "output_type": "stream",
     "text": [
      "60000/|/Epoch 21: 100%|| 60000/60000 [00:17<00:00, 3431.06it/s, loss_dis=0.123, loss_gen=0.823, loss_q=0.0227]]\n"
     ]
    },
    {
     "name": "stderr",
     "output_type": "stream",
     "text": [
      "Widget Javascript not detected.  It may not be installed or enabled properly.\n"
     ]
    },
    {
     "data": {
      "application/vnd.jupyter.widget-view+json": {
       "model_id": "c87f1e6d29a74cae9aa03af9848c2fb7"
      }
     },
     "metadata": {},
     "output_type": "display_data"
    },
    {
     "name": "stdout",
     "output_type": "stream",
     "text": [
      "60000/|/Epoch 22: 100%|| 60000/60000 [00:17<00:00, 3603.00it/s, loss_dis=0.125, loss_gen=0.642, loss_q=0.0228]]\n"
     ]
    },
    {
     "name": "stderr",
     "output_type": "stream",
     "text": [
      "Widget Javascript not detected.  It may not be installed or enabled properly.\n"
     ]
    },
    {
     "data": {
      "application/vnd.jupyter.widget-view+json": {
       "model_id": "073ca3cab68a4735989eb5e63d8513f4"
      }
     },
     "metadata": {},
     "output_type": "display_data"
    },
    {
     "name": "stdout",
     "output_type": "stream",
     "text": [
      "60000/|/Epoch 23: 100%|| 60000/60000 [00:17<00:00, 3690.19it/s, loss_dis=0.141, loss_gen=0.821, loss_q=0.022]]]\n"
     ]
    },
    {
     "name": "stderr",
     "output_type": "stream",
     "text": [
      "Widget Javascript not detected.  It may not be installed or enabled properly.\n"
     ]
    },
    {
     "data": {
      "application/vnd.jupyter.widget-view+json": {
       "model_id": "ea917eb8a5154eb983578447f68b56c4"
      }
     },
     "metadata": {},
     "output_type": "display_data"
    },
    {
     "name": "stdout",
     "output_type": "stream",
     "text": [
      "60000/|/Epoch 24: 100%|| 60000/60000 [00:16<00:00, 3688.82it/s, loss_dis=0.156, loss_gen=0.536, loss_q=0.0194]]\n"
     ]
    },
    {
     "name": "stderr",
     "output_type": "stream",
     "text": [
      "Widget Javascript not detected.  It may not be installed or enabled properly.\n"
     ]
    },
    {
     "data": {
      "application/vnd.jupyter.widget-view+json": {
       "model_id": "704d9ec6b254435cb97aa6effd27a004"
      }
     },
     "metadata": {},
     "output_type": "display_data"
    },
    {
     "name": "stdout",
     "output_type": "stream",
     "text": [
      "60000/|/Epoch 25: 100%|| 60000/60000 [00:16<00:00, 3704.37it/s, loss_dis=0.143, loss_gen=0.542, loss_q=0.0202]]\n"
     ]
    },
    {
     "name": "stderr",
     "output_type": "stream",
     "text": [
      "Widget Javascript not detected.  It may not be installed or enabled properly.\n"
     ]
    },
    {
     "data": {
      "application/vnd.jupyter.widget-view+json": {
       "model_id": "e5811fa4259b42bfa10861fab9724fa8"
      }
     },
     "metadata": {},
     "output_type": "display_data"
    },
    {
     "name": "stdout",
     "output_type": "stream",
     "text": [
      "60000/|/Epoch 26: 100%|| 60000/60000 [00:17<00:00, 3361.37it/s, loss_dis=0.165, loss_gen=0.559, loss_q=0.0292]]\n"
     ]
    },
    {
     "name": "stderr",
     "output_type": "stream",
     "text": [
      "Widget Javascript not detected.  It may not be installed or enabled properly.\n"
     ]
    },
    {
     "data": {
      "application/vnd.jupyter.widget-view+json": {
       "model_id": "9e03daebeda04f119026ddf64842c10b"
      }
     },
     "metadata": {},
     "output_type": "display_data"
    },
    {
     "name": "stdout",
     "output_type": "stream",
     "text": [
      "60000/|/Epoch 27: 100%|| 60000/60000 [00:19<00:00, 3244.65it/s, loss_dis=0.148, loss_gen=0.559, loss_q=0.0324]]\n"
     ]
    },
    {
     "name": "stderr",
     "output_type": "stream",
     "text": [
      "Widget Javascript not detected.  It may not be installed or enabled properly.\n"
     ]
    },
    {
     "data": {
      "application/vnd.jupyter.widget-view+json": {
       "model_id": "777b13d8e12b49f8b28c2c39b4c8cf10"
      }
     },
     "metadata": {},
     "output_type": "display_data"
    },
    {
     "name": "stdout",
     "output_type": "stream",
     "text": [
      "60000/|/Epoch 28: 100%|| 60000/60000 [00:18<00:00, 3633.39it/s, loss_dis=0.105, loss_gen=0.817, loss_q=0.0273]]\n"
     ]
    },
    {
     "name": "stderr",
     "output_type": "stream",
     "text": [
      "Widget Javascript not detected.  It may not be installed or enabled properly.\n"
     ]
    },
    {
     "data": {
      "application/vnd.jupyter.widget-view+json": {
       "model_id": "e511f0ad15ad4504b6adc44a6d140cd1"
      }
     },
     "metadata": {},
     "output_type": "display_data"
    },
    {
     "name": "stdout",
     "output_type": "stream",
     "text": [
      "60000/|/Epoch 29: 100%|| 60000/60000 [00:17<00:00, 3430.36it/s, loss_dis=0.144, loss_gen=0.603, loss_q=0.0192]]\n"
     ]
    },
    {
     "name": "stderr",
     "output_type": "stream",
     "text": [
      "Widget Javascript not detected.  It may not be installed or enabled properly.\n"
     ]
    },
    {
     "data": {
      "application/vnd.jupyter.widget-view+json": {
       "model_id": "1c31260a9d80407fa201419d0bb6d975"
      }
     },
     "metadata": {},
     "output_type": "display_data"
    },
    {
     "name": "stdout",
     "output_type": "stream",
     "text": [
      "60000/|/Epoch 30: 100%|| 60000/60000 [00:17<00:00, 3043.04it/s, loss_dis=0.131, loss_gen=0.718, loss_q=0.0667]]\n"
     ]
    },
    {
     "name": "stderr",
     "output_type": "stream",
     "text": [
      "Widget Javascript not detected.  It may not be installed or enabled properly.\n"
     ]
    },
    {
     "data": {
      "application/vnd.jupyter.widget-view+json": {
       "model_id": "40d3237045fb4dbcabcf0b1a9681b6a1"
      }
     },
     "metadata": {},
     "output_type": "display_data"
    },
    {
     "name": "stdout",
     "output_type": "stream",
     "text": [
      "60000/|/Epoch 31: 100%|| 60000/60000 [00:18<00:00, 3450.36it/s, loss_dis=0.115, loss_gen=0.608, loss_q=0.0591]]\n"
     ]
    },
    {
     "name": "stderr",
     "output_type": "stream",
     "text": [
      "Widget Javascript not detected.  It may not be installed or enabled properly.\n"
     ]
    },
    {
     "data": {
      "application/vnd.jupyter.widget-view+json": {
       "model_id": "49a2a4d45e364d9286cbda983de8c3f2"
      }
     },
     "metadata": {},
     "output_type": "display_data"
    },
    {
     "name": "stdout",
     "output_type": "stream",
     "text": [
      "60000/|/Epoch 32: 100%|| 60000/60000 [00:18<00:00, 3443.58it/s, loss_dis=0.159, loss_gen=0.595, loss_q=0.041]]]\n"
     ]
    },
    {
     "name": "stderr",
     "output_type": "stream",
     "text": [
      "Widget Javascript not detected.  It may not be installed or enabled properly.\n"
     ]
    },
    {
     "data": {
      "application/vnd.jupyter.widget-view+json": {
       "model_id": "a6aeda3876474f25a9cc378652696475"
      }
     },
     "metadata": {},
     "output_type": "display_data"
    },
    {
     "name": "stdout",
     "output_type": "stream",
     "text": [
      "60000/|/Epoch 33: 100%|| 60000/60000 [00:18<00:00, 3365.85it/s, loss_dis=0.215, loss_gen=0.492, loss_q=0.0177]]\n"
     ]
    },
    {
     "name": "stderr",
     "output_type": "stream",
     "text": [
      "Widget Javascript not detected.  It may not be installed or enabled properly.\n"
     ]
    },
    {
     "data": {
      "application/vnd.jupyter.widget-view+json": {
       "model_id": "7279ddd25dd346f6b7ef9a443ac7c12d"
      }
     },
     "metadata": {},
     "output_type": "display_data"
    },
    {
     "name": "stdout",
     "output_type": "stream",
     "text": [
      "60000/|/Epoch 34: 100%|| 60000/60000 [00:17<00:00, 3536.38it/s, loss_dis=0.108, loss_gen=0.717, loss_q=0.0233]]\n"
     ]
    },
    {
     "name": "stderr",
     "output_type": "stream",
     "text": [
      "Widget Javascript not detected.  It may not be installed or enabled properly.\n"
     ]
    },
    {
     "data": {
      "application/vnd.jupyter.widget-view+json": {
       "model_id": "0cd7a1eee7824c499411660a8b500813"
      }
     },
     "metadata": {},
     "output_type": "display_data"
    },
    {
     "name": "stdout",
     "output_type": "stream",
     "text": [
      "60000/|/Epoch 35: 100%|| 60000/60000 [00:17<00:00, 3634.39it/s, loss_dis=0.231, loss_gen=0.466, loss_q=0.0321]]\n"
     ]
    },
    {
     "name": "stderr",
     "output_type": "stream",
     "text": [
      "Widget Javascript not detected.  It may not be installed or enabled properly.\n"
     ]
    },
    {
     "data": {
      "application/vnd.jupyter.widget-view+json": {
       "model_id": "e20017fe97804213ba782df3dac0628c"
      }
     },
     "metadata": {},
     "output_type": "display_data"
    },
    {
     "name": "stdout",
     "output_type": "stream",
     "text": [
      "60000/|/Epoch 36: 100%|| 60000/60000 [00:18<00:00, 3135.74it/s, loss_dis=0.106, loss_gen=0.861, loss_q=0.0239]]\n"
     ]
    },
    {
     "name": "stderr",
     "output_type": "stream",
     "text": [
      "Widget Javascript not detected.  It may not be installed or enabled properly.\n"
     ]
    },
    {
     "data": {
      "application/vnd.jupyter.widget-view+json": {
       "model_id": "65a0b3f2b1a7438cab71c7f23e00e8c0"
      }
     },
     "metadata": {},
     "output_type": "display_data"
    },
    {
     "name": "stdout",
     "output_type": "stream",
     "text": [
      "60000/|/Epoch 37: 100%|| 60000/60000 [00:18<00:00, 3219.98it/s, loss_dis=0.151, loss_gen=0.654, loss_q=0.0213]]\n"
     ]
    },
    {
     "name": "stderr",
     "output_type": "stream",
     "text": [
      "Widget Javascript not detected.  It may not be installed or enabled properly.\n"
     ]
    },
    {
     "data": {
      "application/vnd.jupyter.widget-view+json": {
       "model_id": "71b37de42c174ede9d1d691f1f98b827"
      }
     },
     "metadata": {},
     "output_type": "display_data"
    },
    {
     "name": "stdout",
     "output_type": "stream",
     "text": [
      "60000/|/Epoch 38: 100%|| 60000/60000 [00:18<00:00, 3663.70it/s, loss_dis=0.133, loss_gen=0.657, loss_q=0.0227]]\n"
     ]
    },
    {
     "name": "stderr",
     "output_type": "stream",
     "text": [
      "Widget Javascript not detected.  It may not be installed or enabled properly.\n"
     ]
    },
    {
     "data": {
      "application/vnd.jupyter.widget-view+json": {
       "model_id": "7c1b1917d21948e4ae1cd5d6be9062bf"
      }
     },
     "metadata": {},
     "output_type": "display_data"
    },
    {
     "name": "stdout",
     "output_type": "stream",
     "text": [
      "60000/|/Epoch 39: 100%|| 60000/60000 [00:17<00:00, 3578.32it/s, loss_dis=0.112, loss_gen=0.665, loss_q=0.0241]]\n"
     ]
    },
    {
     "name": "stderr",
     "output_type": "stream",
     "text": [
      "Widget Javascript not detected.  It may not be installed or enabled properly.\n"
     ]
    },
    {
     "data": {
      "application/vnd.jupyter.widget-view+json": {
       "model_id": "796103a33dde427aa7784c6879d464ca"
      }
     },
     "metadata": {},
     "output_type": "display_data"
    },
    {
     "name": "stdout",
     "output_type": "stream",
     "text": [
      "60000/|/Epoch 40: 100%|| 60000/60000 [00:16<00:00, 3684.54it/s, loss_dis=0.161, loss_gen=0.911, loss_q=0.0228]]\n"
     ]
    },
    {
     "name": "stderr",
     "output_type": "stream",
     "text": [
      "Widget Javascript not detected.  It may not be installed or enabled properly.\n"
     ]
    },
    {
     "data": {
      "application/vnd.jupyter.widget-view+json": {
       "model_id": "c67a0a9709e64c51ae7c73c93db1a63f"
      }
     },
     "metadata": {},
     "output_type": "display_data"
    },
    {
     "name": "stdout",
     "output_type": "stream",
     "text": [
      "60000/|/Epoch 41: 100%|| 60000/60000 [00:16<00:00, 3704.61it/s, loss_dis=0.106, loss_gen=0.852, loss_q=0.0209]]\n"
     ]
    },
    {
     "name": "stderr",
     "output_type": "stream",
     "text": [
      "Widget Javascript not detected.  It may not be installed or enabled properly.\n"
     ]
    },
    {
     "data": {
      "application/vnd.jupyter.widget-view+json": {
       "model_id": "4f29451d1bb04482bdfcab84e0502f2d"
      }
     },
     "metadata": {},
     "output_type": "display_data"
    },
    {
     "name": "stdout",
     "output_type": "stream",
     "text": [
      "60000/|/Epoch 42: 100%|| 60000/60000 [00:16<00:00, 3732.32it/s, loss_dis=0.117, loss_gen=0.838, loss_q=0.0216]]\n"
     ]
    },
    {
     "name": "stderr",
     "output_type": "stream",
     "text": [
      "Widget Javascript not detected.  It may not be installed or enabled properly.\n"
     ]
    },
    {
     "data": {
      "application/vnd.jupyter.widget-view+json": {
       "model_id": "58c0e134d2774d09921d6b1d906d9954"
      }
     },
     "metadata": {},
     "output_type": "display_data"
    },
    {
     "name": "stdout",
     "output_type": "stream",
     "text": [
      "60000/|/Epoch 43: 100%|| 60000/60000 [00:16<00:00, 3715.02it/s, loss_dis=0.148, loss_gen=0.571, loss_q=0.0201]]\n"
     ]
    },
    {
     "name": "stderr",
     "output_type": "stream",
     "text": [
      "Widget Javascript not detected.  It may not be installed or enabled properly.\n"
     ]
    },
    {
     "data": {
      "application/vnd.jupyter.widget-view+json": {
       "model_id": "c66ffad59b514e5693efd282e518c5df"
      }
     },
     "metadata": {},
     "output_type": "display_data"
    },
    {
     "name": "stdout",
     "output_type": "stream",
     "text": [
      "60000/|/Epoch 44: 100%|| 60000/60000 [00:16<00:00, 3743.18it/s, loss_dis=0.114, loss_gen=0.661, loss_q=0.0254]]\n"
     ]
    },
    {
     "name": "stderr",
     "output_type": "stream",
     "text": [
      "Widget Javascript not detected.  It may not be installed or enabled properly.\n"
     ]
    },
    {
     "data": {
      "application/vnd.jupyter.widget-view+json": {
       "model_id": "992ded1dcf8c44b1a693d9838a21b013"
      }
     },
     "metadata": {},
     "output_type": "display_data"
    },
    {
     "name": "stdout",
     "output_type": "stream",
     "text": [
      "60000/|/Epoch 45: 100%|| 60000/60000 [00:16<00:00, 3734.56it/s, loss_dis=0.112, loss_gen=0.755, loss_q=0.0231]]\n"
     ]
    },
    {
     "name": "stderr",
     "output_type": "stream",
     "text": [
      "Widget Javascript not detected.  It may not be installed or enabled properly.\n"
     ]
    },
    {
     "data": {
      "application/vnd.jupyter.widget-view+json": {
       "model_id": "a9f31990ce3e47d68503236d9915f4a8"
      }
     },
     "metadata": {},
     "output_type": "display_data"
    },
    {
     "name": "stdout",
     "output_type": "stream",
     "text": [
      "60000/|/Epoch 46: 100%|| 60000/60000 [00:16<00:00, 3729.41it/s, loss_dis=0.103, loss_gen=0.819, loss_q=0.019]]]\n"
     ]
    },
    {
     "name": "stderr",
     "output_type": "stream",
     "text": [
      "Widget Javascript not detected.  It may not be installed or enabled properly.\n"
     ]
    },
    {
     "data": {
      "application/vnd.jupyter.widget-view+json": {
       "model_id": "53115bd184dc47ac928cc8c2cbe57626"
      }
     },
     "metadata": {},
     "output_type": "display_data"
    },
    {
     "name": "stdout",
     "output_type": "stream",
     "text": [
      "60000/|/Epoch 47: 100%|| 60000/60000 [00:16<00:00, 3715.48it/s, loss_dis=0.102, loss_gen=0.965, loss_q=0.0206]]\n"
     ]
    },
    {
     "name": "stderr",
     "output_type": "stream",
     "text": [
      "Widget Javascript not detected.  It may not be installed or enabled properly.\n"
     ]
    },
    {
     "data": {
      "application/vnd.jupyter.widget-view+json": {
       "model_id": "96867efc8105426a9fc618f3e3bad2f0"
      }
     },
     "metadata": {},
     "output_type": "display_data"
    },
    {
     "name": "stdout",
     "output_type": "stream",
     "text": [
      "60000/|/Epoch 48: 100%|| 60000/60000 [00:16<00:00, 3631.93it/s, loss_dis=0.12, loss_gen=0.819, loss_q=0.0235]8]\n"
     ]
    },
    {
     "name": "stderr",
     "output_type": "stream",
     "text": [
      "Widget Javascript not detected.  It may not be installed or enabled properly.\n"
     ]
    },
    {
     "data": {
      "application/vnd.jupyter.widget-view+json": {
       "model_id": "aa7bd2f0fa2144bfac0294eaa3fbb2d5"
      }
     },
     "metadata": {},
     "output_type": "display_data"
    },
    {
     "name": "stdout",
     "output_type": "stream",
     "text": [
      "60000/|/Epoch 49: 100%|| 60000/60000 [00:16<00:00, 3711.58it/s, loss_dis=0.109, loss_gen=0.932, loss_q=0.0379]]\n"
     ]
    },
    {
     "name": "stderr",
     "output_type": "stream",
     "text": [
      "Widget Javascript not detected.  It may not be installed or enabled properly.\n"
     ]
    },
    {
     "data": {
      "application/vnd.jupyter.widget-view+json": {
       "model_id": "4b9eb85f3a134f359e56d2f2a42e8d98"
      }
     },
     "metadata": {},
     "output_type": "display_data"
    },
    {
     "name": "stdout",
     "output_type": "stream",
     "text": [
      "60000/|/Epoch 50: 100%|| 60000/60000 [00:16<00:00, 3720.43it/s, loss_dis=0.106, loss_gen=0.83, loss_q=0.0173]]]\n"
     ]
    },
    {
     "name": "stderr",
     "output_type": "stream",
     "text": [
      "Widget Javascript not detected.  It may not be installed or enabled properly.\n"
     ]
    },
    {
     "data": {
      "application/vnd.jupyter.widget-view+json": {
       "model_id": "2a351c158dd744f09cb633956c4ca85d"
      }
     },
     "metadata": {},
     "output_type": "display_data"
    },
    {
     "name": "stdout",
     "output_type": "stream",
     "text": [
      "60000/|/Epoch 51: 100%|| 60000/60000 [00:16<00:00, 3664.92it/s, loss_dis=0.15, loss_gen=0.59, loss_q=0.0222]8]]\n"
     ]
    },
    {
     "name": "stderr",
     "output_type": "stream",
     "text": [
      "Widget Javascript not detected.  It may not be installed or enabled properly.\n"
     ]
    },
    {
     "data": {
      "application/vnd.jupyter.widget-view+json": {
       "model_id": "5768242c0bd741cf81dedf0701f97a74"
      }
     },
     "metadata": {},
     "output_type": "display_data"
    },
    {
     "name": "stdout",
     "output_type": "stream",
     "text": [
      "60000/|/Epoch 52: 100%|| 60000/60000 [00:16<00:00, 3671.40it/s, loss_dis=0.111, loss_gen=0.828, loss_q=0.0246]]\n"
     ]
    },
    {
     "name": "stderr",
     "output_type": "stream",
     "text": [
      "Widget Javascript not detected.  It may not be installed or enabled properly.\n"
     ]
    },
    {
     "data": {
      "application/vnd.jupyter.widget-view+json": {
       "model_id": "aea7c54d8bd14866bf4b6cc760e6b87a"
      }
     },
     "metadata": {},
     "output_type": "display_data"
    },
    {
     "name": "stdout",
     "output_type": "stream",
     "text": [
      "60000/|/Epoch 53: 100%|| 60000/60000 [00:16<00:00, 3694.62it/s, loss_dis=0.15, loss_gen=0.722, loss_q=0.0247]]]\n"
     ]
    },
    {
     "name": "stderr",
     "output_type": "stream",
     "text": [
      "Widget Javascript not detected.  It may not be installed or enabled properly.\n"
     ]
    },
    {
     "data": {
      "application/vnd.jupyter.widget-view+json": {
       "model_id": "697048c4c19d4fe49bb4b15cfc3922e9"
      }
     },
     "metadata": {},
     "output_type": "display_data"
    },
    {
     "name": "stdout",
     "output_type": "stream",
     "text": [
      "60000/|/Epoch 54: 100%|| 60000/60000 [00:16<00:00, 3705.88it/s, loss_dis=0.0776, loss_gen=0.876, loss_q=0.0224]\n"
     ]
    },
    {
     "name": "stderr",
     "output_type": "stream",
     "text": [
      "Widget Javascript not detected.  It may not be installed or enabled properly.\n"
     ]
    },
    {
     "data": {
      "application/vnd.jupyter.widget-view+json": {
       "model_id": "adbf54d6843c4b57afd79247f7ca3be4"
      }
     },
     "metadata": {},
     "output_type": "display_data"
    },
    {
     "name": "stdout",
     "output_type": "stream",
     "text": [
      "60000/|/Epoch 55: 100%|| 60000/60000 [00:16<00:00, 3687.54it/s, loss_dis=0.137, loss_gen=0.743, loss_q=0.0192]]\n"
     ]
    },
    {
     "name": "stderr",
     "output_type": "stream",
     "text": [
      "Widget Javascript not detected.  It may not be installed or enabled properly.\n"
     ]
    },
    {
     "data": {
      "application/vnd.jupyter.widget-view+json": {
       "model_id": "0937512ce4934c3197d253a7ee410fd2"
      }
     },
     "metadata": {},
     "output_type": "display_data"
    },
    {
     "name": "stdout",
     "output_type": "stream",
     "text": [
      "60000/|/Epoch 56: 100%|| 60000/60000 [00:16<00:00, 3712.93it/s, loss_dis=0.12, loss_gen=0.763, loss_q=0.0172]]]\n"
     ]
    },
    {
     "name": "stderr",
     "output_type": "stream",
     "text": [
      "Widget Javascript not detected.  It may not be installed or enabled properly.\n"
     ]
    },
    {
     "data": {
      "application/vnd.jupyter.widget-view+json": {
       "model_id": "bb6b88462f844a70bb60d1d913c72273"
      }
     },
     "metadata": {},
     "output_type": "display_data"
    },
    {
     "name": "stdout",
     "output_type": "stream",
     "text": [
      "60000/|/Epoch 57: 100%|| 60000/60000 [00:16<00:00, 3681.52it/s, loss_dis=0.097, loss_gen=1.01, loss_q=0.021]26]\n"
     ]
    },
    {
     "name": "stderr",
     "output_type": "stream",
     "text": [
      "Widget Javascript not detected.  It may not be installed or enabled properly.\n"
     ]
    },
    {
     "data": {
      "application/vnd.jupyter.widget-view+json": {
       "model_id": "d5f37a2d1333424daac190c566397ba2"
      }
     },
     "metadata": {},
     "output_type": "display_data"
    },
    {
     "name": "stdout",
     "output_type": "stream",
     "text": [
      "60000/|/Epoch 58: 100%|| 60000/60000 [00:16<00:00, 3698.79it/s, loss_dis=0.101, loss_gen=0.963, loss_q=0.0193]]\n"
     ]
    },
    {
     "name": "stderr",
     "output_type": "stream",
     "text": [
      "Widget Javascript not detected.  It may not be installed or enabled properly.\n"
     ]
    },
    {
     "data": {
      "application/vnd.jupyter.widget-view+json": {
       "model_id": "38162f39ba834893bfb064d63028674a"
      }
     },
     "metadata": {},
     "output_type": "display_data"
    },
    {
     "name": "stdout",
     "output_type": "stream",
     "text": [
      "60000/|/Epoch 59: 100%|| 60000/60000 [00:16<00:00, 3696.47it/s, loss_dis=0.129, loss_gen=0.653, loss_q=0.0284]]\n"
     ]
    },
    {
     "name": "stderr",
     "output_type": "stream",
     "text": [
      "Widget Javascript not detected.  It may not be installed or enabled properly.\n"
     ]
    },
    {
     "data": {
      "application/vnd.jupyter.widget-view+json": {
       "model_id": "d5ded68793e7466481f35468ac05819a"
      }
     },
     "metadata": {},
     "output_type": "display_data"
    },
    {
     "name": "stdout",
     "output_type": "stream",
     "text": [
      "60000/|/Epoch 60: 100%|| 60000/60000 [00:16<00:00, 3729.96it/s, loss_dis=0.109, loss_gen=0.854, loss_q=0.0198]]\n"
     ]
    },
    {
     "name": "stderr",
     "output_type": "stream",
     "text": [
      "Widget Javascript not detected.  It may not be installed or enabled properly.\n"
     ]
    },
    {
     "data": {
      "application/vnd.jupyter.widget-view+json": {
       "model_id": "ce1b3e7f4c384cfe8ebbe8b4b585cb23"
      }
     },
     "metadata": {},
     "output_type": "display_data"
    },
    {
     "name": "stdout",
     "output_type": "stream",
     "text": [
      "60000/|/Epoch 61: 100%|| 60000/60000 [00:16<00:00, 3706.56it/s, loss_dis=0.0851, loss_gen=0.885, loss_q=0.0193]\n"
     ]
    },
    {
     "name": "stderr",
     "output_type": "stream",
     "text": [
      "Widget Javascript not detected.  It may not be installed or enabled properly.\n"
     ]
    },
    {
     "data": {
      "application/vnd.jupyter.widget-view+json": {
       "model_id": "805c54ff75ee4a76a97a15fcf17f2d5f"
      }
     },
     "metadata": {},
     "output_type": "display_data"
    },
    {
     "name": "stdout",
     "output_type": "stream",
     "text": [
      "60000/|/Epoch 62: 100%|| 60000/60000 [00:16<00:00, 3702.85it/s, loss_dis=0.135, loss_gen=1.04, loss_q=0.0207]]]\n"
     ]
    },
    {
     "name": "stderr",
     "output_type": "stream",
     "text": [
      "Widget Javascript not detected.  It may not be installed or enabled properly.\n"
     ]
    },
    {
     "data": {
      "application/vnd.jupyter.widget-view+json": {
       "model_id": "e02845607b944b7e8b720d6327afdf51"
      }
     },
     "metadata": {},
     "output_type": "display_data"
    },
    {
     "name": "stdout",
     "output_type": "stream",
     "text": [
      "60000/|/Epoch 63: 100%|| 60000/60000 [00:16<00:00, 3678.61it/s, loss_dis=0.109, loss_gen=0.76, loss_q=0.0195]6]\n"
     ]
    },
    {
     "name": "stderr",
     "output_type": "stream",
     "text": [
      "Widget Javascript not detected.  It may not be installed or enabled properly.\n"
     ]
    },
    {
     "data": {
      "application/vnd.jupyter.widget-view+json": {
       "model_id": "ba78b4cac27d4f7498b45e2f830f98ac"
      }
     },
     "metadata": {},
     "output_type": "display_data"
    },
    {
     "name": "stdout",
     "output_type": "stream",
     "text": [
      "60000/|/Epoch 64: 100%|| 60000/60000 [00:16<00:00, 3692.89it/s, loss_dis=0.0769, loss_gen=0.765, loss_q=0.0302]\n"
     ]
    },
    {
     "name": "stderr",
     "output_type": "stream",
     "text": [
      "Widget Javascript not detected.  It may not be installed or enabled properly.\n"
     ]
    },
    {
     "data": {
      "application/vnd.jupyter.widget-view+json": {
       "model_id": "7bff665b0ea845e2906a1a35c89e5ef9"
      }
     },
     "metadata": {},
     "output_type": "display_data"
    },
    {
     "name": "stdout",
     "output_type": "stream",
     "text": [
      "60000/|/Epoch 65: 100%|| 60000/60000 [00:16<00:00, 3703.70it/s, loss_dis=0.0882, loss_gen=0.946, loss_q=0.0197]\n"
     ]
    },
    {
     "name": "stderr",
     "output_type": "stream",
     "text": [
      "Widget Javascript not detected.  It may not be installed or enabled properly.\n"
     ]
    },
    {
     "data": {
      "application/vnd.jupyter.widget-view+json": {
       "model_id": "d6486e8ad78c4ad285aab84caa3a50dc"
      }
     },
     "metadata": {},
     "output_type": "display_data"
    },
    {
     "name": "stdout",
     "output_type": "stream",
     "text": [
      "60000/|/Epoch 66: 100%|| 60000/60000 [00:16<00:00, 3720.39it/s, loss_dis=0.0763, loss_gen=0.996, loss_q=0.0228]\n"
     ]
    },
    {
     "name": "stderr",
     "output_type": "stream",
     "text": [
      "Widget Javascript not detected.  It may not be installed or enabled properly.\n"
     ]
    },
    {
     "data": {
      "application/vnd.jupyter.widget-view+json": {
       "model_id": "b0fa329e4a404ce593f077c17df66db0"
      }
     },
     "metadata": {},
     "output_type": "display_data"
    },
    {
     "name": "stdout",
     "output_type": "stream",
     "text": [
      "60000/|/Epoch 67: 100%|| 60000/60000 [00:16<00:00, 3722.28it/s, loss_dis=0.103, loss_gen=0.741, loss_q=0.0437]]\n"
     ]
    },
    {
     "name": "stderr",
     "output_type": "stream",
     "text": [
      "Widget Javascript not detected.  It may not be installed or enabled properly.\n"
     ]
    },
    {
     "data": {
      "application/vnd.jupyter.widget-view+json": {
       "model_id": "07e05a408126429387f6b76a67dcde6d"
      }
     },
     "metadata": {},
     "output_type": "display_data"
    },
    {
     "name": "stdout",
     "output_type": "stream",
     "text": [
      "60000/|/Epoch 68: 100%|| 60000/60000 [00:16<00:00, 3752.75it/s, loss_dis=0.0659, loss_gen=0.86, loss_q=0.0238]]\n"
     ]
    },
    {
     "name": "stderr",
     "output_type": "stream",
     "text": [
      "Widget Javascript not detected.  It may not be installed or enabled properly.\n"
     ]
    },
    {
     "data": {
      "application/vnd.jupyter.widget-view+json": {
       "model_id": "af9cb2d1b86a4fa4b252f52206f5afe9"
      }
     },
     "metadata": {},
     "output_type": "display_data"
    },
    {
     "name": "stdout",
     "output_type": "stream",
     "text": [
      "60000/|/Epoch 69: 100%|| 60000/60000 [00:16<00:00, 3726.41it/s, loss_dis=0.109, loss_gen=0.779, loss_q=0.0205]]\n"
     ]
    },
    {
     "name": "stderr",
     "output_type": "stream",
     "text": [
      "Widget Javascript not detected.  It may not be installed or enabled properly.\n"
     ]
    },
    {
     "data": {
      "application/vnd.jupyter.widget-view+json": {
       "model_id": "f679d817e1bc4a41a1f95549be512ad9"
      }
     },
     "metadata": {},
     "output_type": "display_data"
    },
    {
     "name": "stdout",
     "output_type": "stream",
     "text": [
      "60000/|/Epoch 70: 100%|| 60000/60000 [00:16<00:00, 3710.05it/s, loss_dis=0.14, loss_gen=1.24, loss_q=0.0232]87]\n"
     ]
    },
    {
     "name": "stderr",
     "output_type": "stream",
     "text": [
      "Widget Javascript not detected.  It may not be installed or enabled properly.\n"
     ]
    },
    {
     "data": {
      "application/vnd.jupyter.widget-view+json": {
       "model_id": "dcef113e52714ef4aa81ae255104ca01"
      }
     },
     "metadata": {},
     "output_type": "display_data"
    },
    {
     "name": "stdout",
     "output_type": "stream",
     "text": [
      "60000/|/Epoch 71: 100%|| 60000/60000 [00:16<00:00, 3722.06it/s, loss_dis=0.152, loss_gen=1.37, loss_q=0.0348]6]\n"
     ]
    },
    {
     "name": "stderr",
     "output_type": "stream",
     "text": [
      "Widget Javascript not detected.  It may not be installed or enabled properly.\n"
     ]
    },
    {
     "data": {
      "application/vnd.jupyter.widget-view+json": {
       "model_id": "cc9f0d4035a34be4ba14e1d45dfa428a"
      }
     },
     "metadata": {},
     "output_type": "display_data"
    },
    {
     "name": "stdout",
     "output_type": "stream",
     "text": [
      "60000/|/Epoch 72: 100%|| 60000/60000 [00:16<00:00, 3755.20it/s, loss_dis=0.0847, loss_gen=1.09, loss_q=0.0215]]\n"
     ]
    },
    {
     "name": "stderr",
     "output_type": "stream",
     "text": [
      "Widget Javascript not detected.  It may not be installed or enabled properly.\n"
     ]
    },
    {
     "data": {
      "application/vnd.jupyter.widget-view+json": {
       "model_id": "1e5f6c5ae6d04d878251b63c3fbee1ef"
      }
     },
     "metadata": {},
     "output_type": "display_data"
    },
    {
     "name": "stdout",
     "output_type": "stream",
     "text": [
      "60000/|/Epoch 73: 100%|| 60000/60000 [00:16<00:00, 3676.40it/s, loss_dis=0.0949, loss_gen=0.724, loss_q=0.0409]\n"
     ]
    },
    {
     "name": "stderr",
     "output_type": "stream",
     "text": [
      "Widget Javascript not detected.  It may not be installed or enabled properly.\n"
     ]
    },
    {
     "data": {
      "application/vnd.jupyter.widget-view+json": {
       "model_id": "dbf751f2f2da4f9ca0217a7ffcbf4ab1"
      }
     },
     "metadata": {},
     "output_type": "display_data"
    },
    {
     "name": "stdout",
     "output_type": "stream",
     "text": [
      "60000/|/Epoch 74: 100%|| 60000/60000 [00:16<00:00, 3701.19it/s, loss_dis=0.0731, loss_gen=0.841, loss_q=0.0216]\n"
     ]
    },
    {
     "name": "stderr",
     "output_type": "stream",
     "text": [
      "Widget Javascript not detected.  It may not be installed or enabled properly.\n"
     ]
    },
    {
     "data": {
      "application/vnd.jupyter.widget-view+json": {
       "model_id": "22bb850c21ee4f5189ae613306f0f75d"
      }
     },
     "metadata": {},
     "output_type": "display_data"
    },
    {
     "name": "stdout",
     "output_type": "stream",
     "text": [
      "60000/|/Epoch 75: 100%|| 60000/60000 [00:16<00:00, 3727.23it/s, loss_dis=0.0856, loss_gen=0.869, loss_q=0.0188]\n"
     ]
    },
    {
     "name": "stderr",
     "output_type": "stream",
     "text": [
      "Widget Javascript not detected.  It may not be installed or enabled properly.\n"
     ]
    },
    {
     "data": {
      "application/vnd.jupyter.widget-view+json": {
       "model_id": "ea9f5fd704ca4a2d9dac80a559f00ebd"
      }
     },
     "metadata": {},
     "output_type": "display_data"
    },
    {
     "name": "stdout",
     "output_type": "stream",
     "text": [
      "60000/|/Epoch 76: 100%|| 60000/60000 [00:16<00:00, 3742.99it/s, loss_dis=0.0796, loss_gen=1.24, loss_q=0.0232]]\n"
     ]
    },
    {
     "name": "stderr",
     "output_type": "stream",
     "text": [
      "Widget Javascript not detected.  It may not be installed or enabled properly.\n"
     ]
    },
    {
     "data": {
      "application/vnd.jupyter.widget-view+json": {
       "model_id": "03d420df10d542878f55893c5f10ccae"
      }
     },
     "metadata": {},
     "output_type": "display_data"
    },
    {
     "name": "stdout",
     "output_type": "stream",
     "text": [
      "60000/|/Epoch 77: 100%|| 60000/60000 [00:16<00:00, 3703.59it/s, loss_dis=0.165, loss_gen=1.03, loss_q=0.0233]8]\n"
     ]
    },
    {
     "name": "stderr",
     "output_type": "stream",
     "text": [
      "Widget Javascript not detected.  It may not be installed or enabled properly.\n"
     ]
    },
    {
     "data": {
      "application/vnd.jupyter.widget-view+json": {
       "model_id": "4a1a5eca6e2f46a0bf23501a1cd61317"
      }
     },
     "metadata": {},
     "output_type": "display_data"
    },
    {
     "name": "stdout",
     "output_type": "stream",
     "text": [
      "60000/|/Epoch 78: 100%|| 60000/60000 [00:16<00:00, 3710.58it/s, loss_dis=0.11, loss_gen=1.07, loss_q=0.0322]9]]\n"
     ]
    },
    {
     "name": "stderr",
     "output_type": "stream",
     "text": [
      "Widget Javascript not detected.  It may not be installed or enabled properly.\n"
     ]
    },
    {
     "data": {
      "application/vnd.jupyter.widget-view+json": {
       "model_id": "36b895ab10fb456e963001bb3e000023"
      }
     },
     "metadata": {},
     "output_type": "display_data"
    },
    {
     "name": "stdout",
     "output_type": "stream",
     "text": [
      "60000/|/Epoch 79: 100%|| 60000/60000 [00:16<00:00, 3734.18it/s, loss_dis=0.105, loss_gen=0.831, loss_q=0.0172]]\n"
     ]
    },
    {
     "name": "stderr",
     "output_type": "stream",
     "text": [
      "Widget Javascript not detected.  It may not be installed or enabled properly.\n"
     ]
    },
    {
     "data": {
      "application/vnd.jupyter.widget-view+json": {
       "model_id": "1449d77c5b794f7a87d2079eb765546a"
      }
     },
     "metadata": {},
     "output_type": "display_data"
    },
    {
     "name": "stdout",
     "output_type": "stream",
     "text": [
      "60000/|/Epoch 80: 100%|| 60000/60000 [00:16<00:00, 3713.46it/s, loss_dis=0.0862, loss_gen=0.751, loss_q=0.0209]\n"
     ]
    },
    {
     "name": "stderr",
     "output_type": "stream",
     "text": [
      "Widget Javascript not detected.  It may not be installed or enabled properly.\n"
     ]
    },
    {
     "data": {
      "application/vnd.jupyter.widget-view+json": {
       "model_id": "a6310d12cfc544dea5c11b9ca414ca0e"
      }
     },
     "metadata": {},
     "output_type": "display_data"
    },
    {
     "name": "stdout",
     "output_type": "stream",
     "text": [
      "60000/|/Epoch 81: 100%|| 60000/60000 [00:16<00:00, 3715.09it/s, loss_dis=0.0701, loss_gen=1.04, loss_q=0.0187]]\n"
     ]
    },
    {
     "name": "stderr",
     "output_type": "stream",
     "text": [
      "Widget Javascript not detected.  It may not be installed or enabled properly.\n"
     ]
    },
    {
     "data": {
      "application/vnd.jupyter.widget-view+json": {
       "model_id": "4ded0f81661b416cac48972aa38aee7e"
      }
     },
     "metadata": {},
     "output_type": "display_data"
    },
    {
     "name": "stdout",
     "output_type": "stream",
     "text": [
      "60000/|/Epoch 82: 100%|| 60000/60000 [00:16<00:00, 3694.43it/s, loss_dis=0.0686, loss_gen=1.18, loss_q=0.0274]]\n"
     ]
    },
    {
     "name": "stderr",
     "output_type": "stream",
     "text": [
      "Widget Javascript not detected.  It may not be installed or enabled properly.\n"
     ]
    },
    {
     "data": {
      "application/vnd.jupyter.widget-view+json": {
       "model_id": "f74596d794c24cae9bb30c4b89fc55fb"
      }
     },
     "metadata": {},
     "output_type": "display_data"
    },
    {
     "name": "stdout",
     "output_type": "stream",
     "text": [
      "60000/|/Epoch 83: 100%|| 60000/60000 [00:18<00:00, 3362.92it/s, loss_dis=0.0828, loss_gen=0.721, loss_q=0.0215]\n"
     ]
    },
    {
     "name": "stderr",
     "output_type": "stream",
     "text": [
      "Widget Javascript not detected.  It may not be installed or enabled properly.\n"
     ]
    },
    {
     "data": {
      "application/vnd.jupyter.widget-view+json": {
       "model_id": "c40dffa243e74781bffd035e13f91a75"
      }
     },
     "metadata": {},
     "output_type": "display_data"
    },
    {
     "name": "stdout",
     "output_type": "stream",
     "text": [
      "60000/|/Epoch 84: 100%|| 60000/60000 [00:17<00:00, 3718.51it/s, loss_dis=0.139, loss_gen=0.626, loss_q=0.0395]]\n"
     ]
    },
    {
     "name": "stderr",
     "output_type": "stream",
     "text": [
      "Widget Javascript not detected.  It may not be installed or enabled properly.\n"
     ]
    },
    {
     "data": {
      "application/vnd.jupyter.widget-view+json": {
       "model_id": "105f6a3191af4156ad6ea85b8e487565"
      }
     },
     "metadata": {},
     "output_type": "display_data"
    },
    {
     "name": "stdout",
     "output_type": "stream",
     "text": [
      "60000/|/Epoch 85: 100%|| 60000/60000 [00:16<00:00, 3743.38it/s, loss_dis=0.08, loss_gen=0.885, loss_q=0.0272]2]\n"
     ]
    },
    {
     "name": "stderr",
     "output_type": "stream",
     "text": [
      "Widget Javascript not detected.  It may not be installed or enabled properly.\n"
     ]
    },
    {
     "data": {
      "application/vnd.jupyter.widget-view+json": {
       "model_id": "d7e28a893fea46df8be72cbf326cf73f"
      }
     },
     "metadata": {},
     "output_type": "display_data"
    },
    {
     "name": "stdout",
     "output_type": "stream",
     "text": [
      "60000/|/Epoch 86: 100%|| 60000/60000 [00:16<00:00, 3704.49it/s, loss_dis=0.074, loss_gen=0.801, loss_q=0.0186]]\n"
     ]
    },
    {
     "name": "stderr",
     "output_type": "stream",
     "text": [
      "Widget Javascript not detected.  It may not be installed or enabled properly.\n"
     ]
    },
    {
     "data": {
      "application/vnd.jupyter.widget-view+json": {
       "model_id": "044d1f6438ee45c081d39cdb26dff5db"
      }
     },
     "metadata": {},
     "output_type": "display_data"
    },
    {
     "name": "stdout",
     "output_type": "stream",
     "text": [
      "60000/|/Epoch 87: 100%|| 60000/60000 [00:16<00:00, 3706.20it/s, loss_dis=0.0748, loss_gen=0.913, loss_q=0.0232]\n"
     ]
    },
    {
     "name": "stderr",
     "output_type": "stream",
     "text": [
      "Widget Javascript not detected.  It may not be installed or enabled properly.\n"
     ]
    },
    {
     "data": {
      "application/vnd.jupyter.widget-view+json": {
       "model_id": "742ad68f79194821aa3c79ccb3348d07"
      }
     },
     "metadata": {},
     "output_type": "display_data"
    },
    {
     "name": "stdout",
     "output_type": "stream",
     "text": [
      "60000/|/Epoch 88: 100%|| 60000/60000 [00:16<00:00, 3751.83it/s, loss_dis=0.14, loss_gen=0.876, loss_q=0.0174]7]\n"
     ]
    },
    {
     "name": "stderr",
     "output_type": "stream",
     "text": [
      "Widget Javascript not detected.  It may not be installed or enabled properly.\n"
     ]
    },
    {
     "data": {
      "application/vnd.jupyter.widget-view+json": {
       "model_id": "463b8c91d2ce47a9b755900ac2490808"
      }
     },
     "metadata": {},
     "output_type": "display_data"
    },
    {
     "name": "stdout",
     "output_type": "stream",
     "text": [
      "60000/|/Epoch 89: 100%|| 60000/60000 [00:16<00:00, 3699.98it/s, loss_dis=0.107, loss_gen=0.78, loss_q=0.0255]8]\n"
     ]
    },
    {
     "name": "stderr",
     "output_type": "stream",
     "text": [
      "Widget Javascript not detected.  It may not be installed or enabled properly.\n"
     ]
    },
    {
     "data": {
      "application/vnd.jupyter.widget-view+json": {
       "model_id": "b08f0c5623ef4a56a5c33deba1be3aaf"
      }
     },
     "metadata": {},
     "output_type": "display_data"
    },
    {
     "name": "stdout",
     "output_type": "stream",
     "text": [
      "60000/|/Epoch 90: 100%|| 60000/60000 [00:16<00:00, 3703.59it/s, loss_dis=0.0797, loss_gen=0.719, loss_q=0.0679]\n"
     ]
    },
    {
     "name": "stderr",
     "output_type": "stream",
     "text": [
      "Widget Javascript not detected.  It may not be installed or enabled properly.\n"
     ]
    },
    {
     "data": {
      "application/vnd.jupyter.widget-view+json": {
       "model_id": "60ef085164fc41d9a978493ca7763c52"
      }
     },
     "metadata": {},
     "output_type": "display_data"
    },
    {
     "name": "stdout",
     "output_type": "stream",
     "text": [
      "60000/|/Epoch 91: 100%|| 60000/60000 [00:16<00:00, 3682.72it/s, loss_dis=0.11, loss_gen=0.757, loss_q=0.0292]3]\n"
     ]
    },
    {
     "name": "stderr",
     "output_type": "stream",
     "text": [
      "Widget Javascript not detected.  It may not be installed or enabled properly.\n"
     ]
    },
    {
     "data": {
      "application/vnd.jupyter.widget-view+json": {
       "model_id": "59e5d5dc9c51477fac8ceb075963cc04"
      }
     },
     "metadata": {},
     "output_type": "display_data"
    },
    {
     "name": "stdout",
     "output_type": "stream",
     "text": [
      "60000/|/Epoch 92: 100%|| 60000/60000 [00:16<00:00, 3686.50it/s, loss_dis=0.114, loss_gen=0.642, loss_q=0.016]7]\n"
     ]
    },
    {
     "name": "stderr",
     "output_type": "stream",
     "text": [
      "Widget Javascript not detected.  It may not be installed or enabled properly.\n"
     ]
    },
    {
     "data": {
      "application/vnd.jupyter.widget-view+json": {
       "model_id": "8231b6ba72e049d0acc999528d23f9a8"
      }
     },
     "metadata": {},
     "output_type": "display_data"
    },
    {
     "name": "stdout",
     "output_type": "stream",
     "text": [
      "60000/|/Epoch 93: 100%|| 60000/60000 [00:16<00:00, 3659.89it/s, loss_dis=0.0933, loss_gen=0.696, loss_q=0.0211]\n"
     ]
    },
    {
     "name": "stderr",
     "output_type": "stream",
     "text": [
      "Widget Javascript not detected.  It may not be installed or enabled properly.\n"
     ]
    },
    {
     "data": {
      "application/vnd.jupyter.widget-view+json": {
       "model_id": "547100b42ac547d39f4e46d7a4266cf8"
      }
     },
     "metadata": {},
     "output_type": "display_data"
    },
    {
     "name": "stdout",
     "output_type": "stream",
     "text": [
      "60000/|/Epoch 94: 100%|| 60000/60000 [00:16<00:00, 3677.00it/s, loss_dis=0.0657, loss_gen=0.795, loss_q=0.018]]\n"
     ]
    },
    {
     "name": "stderr",
     "output_type": "stream",
     "text": [
      "Widget Javascript not detected.  It may not be installed or enabled properly.\n"
     ]
    },
    {
     "data": {
      "application/vnd.jupyter.widget-view+json": {
       "model_id": "65d4eddea2b64c3ca167e2657d9fb9d8"
      }
     },
     "metadata": {},
     "output_type": "display_data"
    },
    {
     "name": "stdout",
     "output_type": "stream",
     "text": [
      "60000/|/Epoch 95: 100%|| 60000/60000 [00:16<00:00, 3660.98it/s, loss_dis=0.0736, loss_gen=0.985, loss_q=0.0189]\n"
     ]
    },
    {
     "name": "stderr",
     "output_type": "stream",
     "text": [
      "Widget Javascript not detected.  It may not be installed or enabled properly.\n"
     ]
    },
    {
     "data": {
      "application/vnd.jupyter.widget-view+json": {
       "model_id": "b87474787ccc4b3c9d42c305d17725b0"
      }
     },
     "metadata": {},
     "output_type": "display_data"
    },
    {
     "name": "stdout",
     "output_type": "stream",
     "text": [
      "60000/|/Epoch 96: 100%|| 60000/60000 [00:16<00:00, 3705.48it/s, loss_dis=0.0748, loss_gen=0.894, loss_q=0.0644]\n"
     ]
    },
    {
     "name": "stderr",
     "output_type": "stream",
     "text": [
      "Widget Javascript not detected.  It may not be installed or enabled properly.\n"
     ]
    },
    {
     "data": {
      "application/vnd.jupyter.widget-view+json": {
       "model_id": "83a6b555adfa4d2bbf90840803ede146"
      }
     },
     "metadata": {},
     "output_type": "display_data"
    },
    {
     "name": "stdout",
     "output_type": "stream",
     "text": [
      "60000/|/Epoch 97: 100%|| 60000/60000 [00:16<00:00, 3705.46it/s, loss_dis=0.0585, loss_gen=0.958, loss_q=0.018]]\n"
     ]
    },
    {
     "name": "stderr",
     "output_type": "stream",
     "text": [
      "Widget Javascript not detected.  It may not be installed or enabled properly.\n"
     ]
    },
    {
     "data": {
      "application/vnd.jupyter.widget-view+json": {
       "model_id": "c73f812d680b401685a617a948d8ade3"
      }
     },
     "metadata": {},
     "output_type": "display_data"
    },
    {
     "name": "stdout",
     "output_type": "stream",
     "text": [
      "60000/|/Epoch 98: 100%|| 60000/60000 [00:16<00:00, 3709.44it/s, loss_dis=0.084, loss_gen=0.917, loss_q=0.0363]]\n"
     ]
    },
    {
     "name": "stderr",
     "output_type": "stream",
     "text": [
      "Widget Javascript not detected.  It may not be installed or enabled properly.\n"
     ]
    },
    {
     "data": {
      "application/vnd.jupyter.widget-view+json": {
       "model_id": "11d75b94d7014cc19fd494657dc72ae2"
      }
     },
     "metadata": {},
     "output_type": "display_data"
    },
    {
     "name": "stdout",
     "output_type": "stream",
     "text": [
      "60000/|/Epoch 99: 100%|| 60000/60000 [00:16<00:00, 3694.18it/s, loss_dis=0.0576, loss_gen=0.949, loss_q=0.018]]\n"
     ]
    },
    {
     "name": "stderr",
     "output_type": "stream",
     "text": [
      "Widget Javascript not detected.  It may not be installed or enabled properly.\n"
     ]
    },
    {
     "data": {
      "application/vnd.jupyter.widget-view+json": {
       "model_id": "37aac7320ad140a486a2c259888a1e8a"
      }
     },
     "metadata": {},
     "output_type": "display_data"
    },
    {
     "name": "stdout",
     "output_type": "stream",
     "text": [
      "60000/|/Epoch 100: 100%|| 60000/60000 [00:16<00:00, 3723.01it/s, loss_dis=0.0577, loss_gen=0.937, loss_q=0.0184]\n"
     ]
    },
    {
     "data": {
      "image/png": "[encoded data removed]",
      "text/plain": [
       "<matplotlib.figure.Figure at 0x7efc1762b208>"
      ]
     },
     "metadata": {},
     "output_type": "display_data"
    }
   ],
   "source": [
    "# Alright, everything's setup, let's run the GAN and train it\n",
    "gan.train_all(train_loader)"
   ]
  },
  {
   "cell_type": "code",
   "execution_count": 10,
   "metadata": {
    "collapsed": true
   },
   "outputs": [],
   "source": [
    "gan.save('./mnist/')"
   ]
  },
  {
   "cell_type": "code",
   "execution_count": 11,
   "metadata": {
    "collapsed": true
   },
   "outputs": [],
   "source": [
    "gan.load('./mnist/')"
   ]
  },
  {
   "cell_type": "markdown",
   "metadata": {},
   "source": [
    "## Display 10 digits from each multinomial coding vector possibility"
   ]
  },
  {
   "cell_type": "code",
   "execution_count": 12,
   "metadata": {},
   "outputs": [
    {
     "data": {
      "image/png": "[encoded data removed]",
      "text/plain": [
       "<matplotlib.figure.Figure at 0x7efbe16eaf28>"
      ]
     },
     "metadata": {},
     "output_type": "display_data"
    }
   ],
   "source": [
    "plt.figure(0, figsize = (32, 32))\n",
    "\n",
    "z_dict = gan.get_z(c1_len * 10, sequential = True)\n",
    "out_gen = gan.gen(torch.cat([z_dict[k] for k in z_dict.keys()], dim = 1))\n",
    "\n",
    "for i in range(10):\n",
    "    for j in range(10):\n",
    "        idx = i * 10 + j + 1\n",
    "        plt.subplot(10, 10, idx)\n",
    "        plt.imshow(np.round(out_gen[idx - 1, 0].cpu().data.numpy() * 255), cmap = 'gray')"
   ]
  },
  {
   "cell_type": "markdown",
   "metadata": {},
   "source": [
    "## Run our InfoGAN on the test set and see how good are the results. Only works for semisupervised InfoGAN"
   ]
  },
  {
   "cell_type": "code",
   "execution_count": 16,
   "metadata": {},
   "outputs": [],
   "source": [
    "out_test = gan.run_dis(Variable(x_test_th).cuda().float() / 255)[1]\n",
    "out_test = np.argmax(out_test.data.cpu().numpy(), axis = 1)"
   ]
  },
  {
   "cell_type": "code",
   "execution_count": 17,
   "metadata": {},
   "outputs": [
    {
     "name": "stdout",
     "output_type": "stream",
     "text": [
      "0.9675\n"
     ]
    }
   ],
   "source": [
    "print(np.mean(out_test == np.argmax(y_test, axis = 1)))"
   ]
  },
  {
   "cell_type": "code",
   "execution_count": null,
   "metadata": {
    "collapsed": true
   },
   "outputs": [],
   "source": []
  }
 ],
 "metadata": {
  "kernelspec": {
   "display_name": "Python 3",
   "language": "python",
   "name": "python3"
  },
  "language_info": {
   "codemirror_mode": {
    "name": "ipython",
    "version": 3
   },
   "file_extension": ".py",
   "mimetype": "text/x-python",
   "name": "python",
   "nbconvert_exporter": "python",
   "pygments_lexer": "ipython3",
   "version": "3.6.2"
  }
 },
 "nbformat": 4,
 "nbformat_minor": 2
}
