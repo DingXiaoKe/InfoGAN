{
 "cells": [
  {
   "cell_type": "markdown",
   "metadata": {},
   "source": [
    "# Try a reverse GAN for MNIST"
   ]
  },
  {
   "cell_type": "code",
   "execution_count": 1,
   "metadata": {},
   "outputs": [
    {
     "name": "stderr",
     "output_type": "stream",
     "text": [
      "Using Theano backend.\n",
      "WARNING (theano.sandbox.cuda): The cuda backend is deprecated and will be removed in the next release (v0.10).  Please switch to the gpuarray backend. You can get more information about how to switch at this URL:\n",
      " https://github.com/Theano/Theano/wiki/Converting-to-the-new-gpu-back-end%28gpuarray%29\n",
      "\n",
      "Using gpu device 0: GeForce GTX 1080 (CNMeM is disabled, cuDNN 6021)\n",
      "/home/henry/.local/lib/python3.6/site-packages/theano/sandbox/cuda/__init__.py:631: UserWarning: Your cuDNN version is more recent than the one Theano officially supports. If you see any problems, try updating Theano or downgrading cuDNN to version 5.1.\n",
      "  warnings.warn(warn)\n"
     ]
    }
   ],
   "source": [
    "%matplotlib inline\n",
    "#Import a ton of stuff\n",
    "import os\n",
    "import numpy as np\n",
    "\n",
    "import torch\n",
    "from torch import nn\n",
    "import torch.nn.functional as F\n",
    "import torch.autograd as autograd\n",
    "import torch.optim as optim\n",
    "from torch.autograd import Variable\n",
    "from torch.utils.data import TensorDataset, DataLoader\n",
    "\n",
    "from keras.utils.generic_utils import Progbar\n",
    "\n",
    "import matplotlib.pyplot as plt\n",
    "import matplotlib.gridspec as gridspec"
   ]
  },
  {
   "cell_type": "code",
   "execution_count": 2,
   "metadata": {},
   "outputs": [
    {
     "name": "stdout",
     "output_type": "stream",
     "text": [
      "(60000, 785) (10000, 785)\n"
     ]
    }
   ],
   "source": [
    "# Load the MNIST CSV data from https://pjreddie.com/projects/mnist-in-csv/\n",
    "data_train = np.genfromtxt('./MNIST_Data/mnist_train.csv', delimiter = ',')\n",
    "data_test = np.genfromtxt('./MNIST_Data/mnist_test.csv', delimiter = ',')\n",
    "print(data_train.shape, data_test.shape)"
   ]
  },
  {
   "cell_type": "code",
   "execution_count": 3,
   "metadata": {},
   "outputs": [
    {
     "name": "stdout",
     "output_type": "stream",
     "text": [
      "(60000, 1, 28, 28) (60000, 10)\n",
      "(10000, 1, 28, 28) (10000, 10)\n",
      "[   0.    1.    2.    3.    4.    5.    6.    7.    8.    9.   10.   11.\n",
      "   12.   13.   14.   15.   16.   17.   18.   19.   20.   21.   22.   23.\n",
      "   24.   25.   26.   27.   28.   29.   30.   31.   32.   33.   34.   35.\n",
      "   36.   37.   38.   39.   40.   41.   42.   43.   44.   45.   46.   47.\n",
      "   48.   49.   50.   51.   52.   53.   54.   55.   56.   57.   58.   59.\n",
      "   60.   61.   62.   63.   64.   65.   66.   67.   68.   69.   70.   71.\n",
      "   72.   73.   74.   75.   76.   77.   78.   79.   80.   81.   82.   83.\n",
      "   84.   85.   86.   87.   88.   89.   90.   91.   92.   93.   94.   95.\n",
      "   96.   97.   98.   99.  100.  101.  102.  103.  104.  105.  106.  107.\n",
      "  108.  109.  110.  111.  112.  113.  114.  115.  116.  117.  118.  119.\n",
      "  120.  121.  122.  123.  124.  125.  126.  127.  128.  129.  130.  131.\n",
      "  132.  133.  134.  135.  136.  137.  138.  139.  140.  141.  142.  143.\n",
      "  144.  145.  146.  147.  148.  149.  150.  151.  152.  153.  154.  155.\n",
      "  156.  157.  158.  159.  160.  161.  162.  163.  164.  165.  166.  167.\n",
      "  168.  169.  170.  171.  172.  173.  174.  175.  176.  177.  178.  179.\n",
      "  180.  181.  182.  183.  184.  185.  186.  187.  188.  189.  190.  191.\n",
      "  192.  193.  194.  195.  196.  197.  198.  199.  200.  201.  202.  203.\n",
      "  204.  205.  206.  207.  208.  209.  210.  211.  212.  213.  214.  215.\n",
      "  216.  217.  218.  219.  220.  221.  222.  223.  224.  225.  226.  227.\n",
      "  228.  229.  230.  231.  232.  233.  234.  235.  236.  237.  238.  239.\n",
      "  240.  241.  242.  243.  244.  245.  246.  247.  248.  249.  250.  251.\n",
      "  252.  253.  254.  255.]\n"
     ]
    }
   ],
   "source": [
    "# Now reformat it into the format we want\n",
    "# NOTE: PyTorch is weird so if we wanted to use cross entropy we need to keep them as logits, but we won't so...\n",
    "x_train = np.reshape(data_train[:, 1:], (-1, 1, 28, 28))\n",
    "#y_train = data_train[:, 0]\n",
    "y_train = np.zeros((data_train.shape[0], 10), dtype = np.uint8)\n",
    "y_train[np.arange(data_train.shape[0]), data_train[:, 0].astype(int)] = 1\n",
    "\n",
    "x_test = np.reshape(data_test[:, 1:], (-1, 1, 28, 28))\n",
    "#y_test = data_test[:, 0]\n",
    "y_test = np.zeros((data_test.shape[0], 10), dtype = np.uint8)\n",
    "y_test[np.arange(data_test.shape[0]), data_test[:, 0].astype(int)] = 1\n",
    "\n",
    "print(x_train.shape, y_train.shape)\n",
    "print(x_test.shape, y_test.shape)\n",
    "\n",
    "# Looks like we can convert our x to unint8\n",
    "# We'll convert back to float and rescale to between 0 and 1 on the GPU batchwise to save CPU RAM\n",
    "print(np.unique(x_train))\n",
    "x_train = x_train.astype(np.uint8)\n",
    "x_test = x_test.astype(np.uint8)\n",
    "y_train = y_train.astype(np.uint8)\n",
    "y_test = y_test.astype(np.uint8)"
   ]
  },
  {
   "cell_type": "code",
   "execution_count": 4,
   "metadata": {},
   "outputs": [
    {
     "name": "stdout",
     "output_type": "stream",
     "text": [
      "[0 0 0 0 0 0 0 1 0 0]\n"
     ]
    },
    {
     "data": {
      "text/plain": [
       "<matplotlib.image.AxesImage at 0x7faaa4b270b8>"
      ]
     },
     "execution_count": 4,
     "metadata": {},
     "output_type": "execute_result"
    },
    {
     "data": {
      "image/png": "[encoded data removed]",
      "text/plain": [
       "<matplotlib.figure.Figure at 0x7faa5a306e48>"
      ]
     },
     "metadata": {},
     "output_type": "display_data"
    }
   ],
   "source": [
    "# Show an example from the test set\n",
    "print(y_test[0])\n",
    "plt.figure(0)\n",
    "plt.imshow(x_test[0, 0], cmap = 'gray')"
   ]
  },
  {
   "cell_type": "markdown",
   "metadata": {},
   "source": [
    "# OK, before we actually build this model, I wanna to know, how the hell does pytorch's set of classification functions work?"
   ]
  },
  {
   "cell_type": "code",
   "execution_count": 5,
   "metadata": {},
   "outputs": [
    {
     "name": "stdout",
     "output_type": "stream",
     "text": [
      "Variable containing:\n",
      "-1.5514\n",
      "-0.5514\n",
      "-1.5514\n",
      "[torch.FloatTensor of size 3]\n",
      "\n",
      "[-1.55144471 -0.55144471 -1.55144471]\n"
     ]
    }
   ],
   "source": [
    "# Experiment with pytorch's activation functions\n",
    "v = Variable(torch.Tensor([0, 1, 0]))\n",
    "v_np = np.array([0, 1, 0])\n",
    "print(F.log_softmax(v))\n",
    "print(v_np - np.log(np.sum(np.exp(v_np))))"
   ]
  },
  {
   "cell_type": "markdown",
   "metadata": {},
   "source": [
    "## OK, so log_softmax works as we expect -> $f(x) = log(\\frac{e^x_i}{\\sum_{j} e^x_j}) = x_i - log(\\sum_{j} e^x_j)$ Although this is basically the negative log loss as we're already taking logs of the output\n",
    "## Now let's try cross_entropy"
   ]
  },
  {
   "cell_type": "code",
   "execution_count": 6,
   "metadata": {},
   "outputs": [
    {
     "name": "stdout",
     "output_type": "stream",
     "text": [
      "Variable containing:\n",
      " 1\n",
      "[torch.LongTensor of size 1]\n",
      " Variable containing:\n",
      " 0.2500  0.5000  0.2500\n",
      "[torch.FloatTensor of size 1x3]\n",
      "\n",
      "Variable containing:\n",
      " 0.9391\n",
      "[torch.FloatTensor of size 1]\n",
      "\n",
      "[-1.18906993 -0.93906993 -1.18906993]\n",
      "[-1.38629436 -0.69314718 -1.38629436]\n"
     ]
    }
   ],
   "source": [
    "u = Variable(torch.Tensor([0.25, 0.5, 0.25])).view(1, 3)\n",
    "v = Variable(torch.LongTensor([1]))\n",
    "u_np = np.array([0.25, 0.5, 0.25])\n",
    "v_np = 1.0\n",
    "print(v, u)\n",
    "print(F.cross_entropy(u, v))\n",
    "w_np = u_np - np.log(np.sum(np.exp(u_np)))\n",
    "print(w_np)\n",
    "print(np.log(u_np))"
   ]
  },
  {
   "cell_type": "markdown",
   "metadata": {},
   "source": [
    "## OK, so cross entropy is basically negative of log_softmax indexed by targets\n",
    "## However, note that cross entropy in PyTorch is NOT the same as cross entropy in common ML literature (i.e. $-t * log(x)$)\n",
    "\n",
    "## Now that my curiousity has been satisfied, let's build this reverse GAN! First we build the conditional GAN"
   ]
  },
  {
   "cell_type": "code",
   "execution_count": 7,
   "metadata": {
    "collapsed": true
   },
   "outputs": [],
   "source": [
    "# Now let's start building the GAN\n",
    "# But first, we're going to redefine Conv2D and Linear with our own initialisations\n",
    "# We're going to use Glorot (aka Xavier) uniform init for all weights\n",
    "# And we will use zero init for all biases\n",
    "class Conv2d(nn.Conv2d):\n",
    "    def reset_parameters(self):\n",
    "        stdv = np.sqrt(6 / ((self.in_channels  + self.out_channels) * np.prod(self.kernel_size)))\n",
    "        self.weight.data.uniform_(-stdv, stdv)\n",
    "        if self.bias is not None:\n",
    "            self.bias.data.zero_()\n",
    "\n",
    "class Linear(nn.Linear):\n",
    "    def reset_parameters(self):\n",
    "        stdv = np.sqrt(6 / (self.in_features + self.out_features))\n",
    "        self.weight.data.uniform_(-stdv, stdv)\n",
    "        if self.bias is not None:\n",
    "            self.bias.data.zero_()\n",
    "\n",
    "class G(nn.Module):\n",
    "    def __init__(self):\n",
    "        super(G, self).__init__()\n",
    "        self.fc1 = Linear(128, 256)\n",
    "        self.fc2 = Linear(256, 512)\n",
    "        self.fc1_c = Linear(10, 256)\n",
    "        self.fc2_c = Linear(256, 512)\n",
    "        self.fc1_all = Linear(512, 512)\n",
    "\n",
    "        self.conv1 = Conv2d(2, 16, kernel_size = 5, padding = 2) # 2 x 16 x 16 -> 16 x 32 x 32\n",
    "        self.conv2 = Conv2d(16, 1, kernel_size = 5) # 32 x 32 x 32 -> 1 x 28 x 28\n",
    "\n",
    "    def forward(self, x, x_c):\n",
    "        x = F.elu(self.fc1(x))\n",
    "        x = F.elu(self.fc2(x))\n",
    "\n",
    "        x_c = F.elu(self.fc1_c(x_c))\n",
    "        x_c = F.elu(self.fc2_c(x_c))\n",
    "        x = x_c + x\n",
    "        x = F.elu(self.fc1_all(x)).view(-1, 2, 16, 16)\n",
    "\n",
    "        x = F.upsample(x, scale_factor = 2, mode = 'nearest')\n",
    "        x = F.elu(self.conv1(x))\n",
    "\n",
    "        return F.tanh(self.conv2(x))\n",
    "\n",
    "class D(nn.Module):\n",
    "    def __init__(self):\n",
    "        super(D, self).__init__()\n",
    "\n",
    "        self.conv1 = Conv2d(1, 16, kernel_size = 5) # 1 x 28 x 28 -> 16 x 12 x 12\n",
    "        self.conv2 = Conv2d(16, 32, kernel_size = 5) # 16 x 12 x 12 -> 32 x 4 x 4\n",
    "\n",
    "        self.fc1 = Linear(512, 256)\n",
    "        self.fc2 = Linear(256, 1)\n",
    "\n",
    "        self.fc1_c = Linear(10, 256)\n",
    "        self.fc2_c = Linear(256, 512)\n",
    "\n",
    "    def forward(self, x, x_c):\n",
    "        x = F.max_pool2d(F.elu(self.conv1(x)), 2)\n",
    "        x = F.max_pool2d(F.elu(self.conv2(x)), 2).view(-1, 512)\n",
    "\n",
    "        x_c = F.elu(self.fc1_c(x_c))\n",
    "        x_c = F.elu(self.fc2_c(x_c))\n",
    "        x = x_c + x\n",
    "\n",
    "        x = F.elu(self.fc1(x))\n",
    "        return self.fc2(x)"
   ]
  },
  {
   "cell_type": "code",
   "execution_count": 8,
   "metadata": {
    "collapsed": true
   },
   "outputs": [],
   "source": [
    "# OK, now we create the actual models\n",
    "generator = G().cuda()\n",
    "discriminator = D().cuda()"
   ]
  },
  {
   "cell_type": "code",
   "execution_count": 9,
   "metadata": {
    "collapsed": true
   },
   "outputs": [],
   "source": [
    "# Prep the data by turning them into tensors and putting them into a PyTorch dataloader\n",
    "train_tensors = TensorDataset(torch.from_numpy(x_train), torch.from_numpy(y_train))\n",
    "test_tensors = TensorDataset(torch.from_numpy(x_test), torch.from_numpy(y_test))\n",
    "train_loader = DataLoader(train_tensors, batch_size = 128, shuffle = True, num_workers = 6, pin_memory = True)\n",
    "test_loader = DataLoader(test_tensors, batch_size = 128, shuffle = True, num_workers = 6, pin_memory = True)"
   ]
  },
  {
   "cell_type": "code",
   "execution_count": 10,
   "metadata": {
    "collapsed": true
   },
   "outputs": [],
   "source": [
    "# Create the optimisers\n",
    "g_optim = optim.Adam(generator.parameters(), lr=1e-4)\n",
    "d_optim = optim.Adam(discriminator.parameters(), lr=1e-4)\n",
    "loss = nn.MSELoss().cuda()"
   ]
  },
  {
   "cell_type": "code",
   "execution_count": 11,
   "metadata": {},
   "outputs": [
    {
     "name": "stdout",
     "output_type": "stream",
     "text": [
      "Start training\n",
      "100/100 [==============================] - 1096s - error_real: 0.1634 - error_fake: 0.1154   \n"
     ]
    },
    {
     "data": {
      "image/png": "[encoded data removed]",
      "text/plain": [
       "<matplotlib.figure.Figure at 0x7faaa47cae10>"
      ]
     },
     "metadata": {},
     "output_type": "display_data"
    }
   ],
   "source": [
    "# Alright, everything's setup, let's run the GAN and train it first\n",
    "pb = Progbar(100)\n",
    "print('Start training')\n",
    "for epoch in range(100):\n",
    "    for i, (data, targets) in enumerate(train_loader, 0):\n",
    "        ones = Variable(torch.ones(data.size()[0], 1)).cuda()\n",
    "        zeros = Variable(torch.zeros(data.size()[0], 1)).cuda()\n",
    "\n",
    "        # Train the discriminator\n",
    "        # Max log(D(x)) + log(1 - D(G(z)))\n",
    "        discriminator.zero_grad()\n",
    "\n",
    "        # Forward & backward pass with real data\n",
    "        real = Variable(data.float().cuda(async = True) / 255.0 * 2 - 1)\n",
    "        condition = Variable(targets.float().cuda(async = True))\n",
    "        out_real = discriminator(real, condition)\n",
    "        error_real = loss(out_real, ones)\n",
    "        error_real.backward()\n",
    "\n",
    "        # Forward pass with fake data\n",
    "        fake = generator(Variable(torch.randn(data.size()[0], 128)).cuda(), condition)\n",
    "        out_fake = discriminator(fake.detach(), condition.detach())\n",
    "        error_fake = loss(out_fake, zeros)\n",
    "        error_fake.backward()\n",
    "        d_optim.step()\n",
    "\n",
    "        # Train the generator\n",
    "        generator.zero_grad()\n",
    "\n",
    "        # Now we just do the backward pass with fake data as we already did the forward pass\n",
    "        out_fake = discriminator(fake, condition)\n",
    "        error_g = loss(out_fake, ones)\n",
    "        error_g.backward()\n",
    "        g_optim.step()\n",
    "\n",
    "        \n",
    "    pb.update(epoch + 1, [('error_real', error_real.cpu().data.numpy()),\n",
    "                          ('error_fake', error_fake.cpu().data.numpy())])\n",
    "    plt.subplot(10, 10, epoch + 1)\n",
    "    plt.imshow(np.round(fake.cpu().data.numpy()[0, 0] + 1) / 2 * 255, cmap = 'gray')"
   ]
  },
  {
   "cell_type": "code",
   "execution_count": 12,
   "metadata": {
    "collapsed": true
   },
   "outputs": [],
   "source": [
    "torch.save(generator.state_dict(), 'mnist_g.torch')\n",
    "torch.save(discriminator.state_dict(), 'mnist_d.torch')"
   ]
  },
  {
   "cell_type": "code",
   "execution_count": 15,
   "metadata": {
    "scrolled": true
   },
   "outputs": [
    {
     "data": {
      "image/png": "[encoded data removed]",
      "text/plain": [
       "<matplotlib.figure.Figure at 0x7faaaafd9748>"
      ]
     },
     "metadata": {},
     "output_type": "display_data"
    }
   ],
   "source": [
    "generator.load_state_dict(torch.load('mnist_g.torch'))\n",
    "discriminator.load_state_dict(torch.load('mnist_d.torch'))\n",
    "\n",
    "plt.figure(1)\n",
    "fake = []\n",
    "for i in range(10):\n",
    "    for j in range(10):\n",
    "        plt.subplot(10, 10, i * 10 + j + 1)\n",
    "        fake += [generator(Variable(torch.randn(1, 128)).cuda(), Variable(torch.eye(10)[j:j + 1]).cuda())]\n",
    "        plt.imshow(np.round(fake[-1].cpu().data.numpy()[0, 0] * 255), cmap = 'gray')\n",
    "    "
   ]
  },
  {
   "cell_type": "markdown",
   "metadata": {
    "collapsed": true
   },
   "source": []
  }
 ],
 "metadata": {
  "kernelspec": {
   "display_name": "Python 3",
   "language": "python",
   "name": "python3"
  },
  "language_info": {
   "codemirror_mode": {
    "name": "ipython",
    "version": 3
   },
   "file_extension": ".py",
   "mimetype": "text/x-python",
   "name": "python",
   "nbconvert_exporter": "python",
   "pygments_lexer": "ipython3",
   "version": "3.6.2"
  }
 },
 "nbformat": 4,
 "nbformat_minor": 2
}
